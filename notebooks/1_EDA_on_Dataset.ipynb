{
 "cells": [
  {
   "cell_type": "markdown",
   "id": "aa22d742-65db-4021-9518-ec3ab054b8d5",
   "metadata": {},
   "source": [
    "# Imports"
   ]
  },
  {
   "cell_type": "code",
   "execution_count": 1,
   "id": "d0c7da01-322f-41d1-bf3d-b5a643fcd7df",
   "metadata": {},
   "outputs": [],
   "source": [
    "import sys\n",
    "sys.path.append(\"../src/\")\n",
    "\n",
    "from utils import safe_log\n",
    "\n",
    "import random\n",
    "import warnings\n",
    "\n",
    "import matplotlib.pyplot as plt\n",
    "import numpy as np\n",
    "import pandas as pd"
   ]
  },
  {
   "cell_type": "markdown",
   "id": "20a3bbd8-2c04-454b-84db-87f2ce93eebe",
   "metadata": {},
   "source": [
    "# Dataset Read In"
   ]
  },
  {
   "cell_type": "code",
   "execution_count": 2,
   "id": "98598566-aab8-4d29-aeb9-642d95a1d897",
   "metadata": {},
   "outputs": [
    {
     "data": {
      "text/html": [
       "<div>\n",
       "<style scoped>\n",
       "    .dataframe tbody tr th:only-of-type {\n",
       "        vertical-align: middle;\n",
       "    }\n",
       "\n",
       "    .dataframe tbody tr th {\n",
       "        vertical-align: top;\n",
       "    }\n",
       "\n",
       "    .dataframe thead th {\n",
       "        text-align: right;\n",
       "    }\n",
       "</style>\n",
       "<table border=\"1\" class=\"dataframe\">\n",
       "  <thead>\n",
       "    <tr style=\"text-align: right;\">\n",
       "      <th></th>\n",
       "      <th>extruder_size</th>\n",
       "      <th>metering_depth</th>\n",
       "      <th>polymer_density</th>\n",
       "      <th>rpm</th>\n",
       "      <th>screw_pitch</th>\n",
       "      <th>flight_width</th>\n",
       "      <th>number_flight</th>\n",
       "      <th>throughput</th>\n",
       "    </tr>\n",
       "  </thead>\n",
       "  <tbody>\n",
       "    <tr>\n",
       "      <th>0</th>\n",
       "      <td>90</td>\n",
       "      <td>2.7</td>\n",
       "      <td>900</td>\n",
       "      <td>90</td>\n",
       "      <td>162.0</td>\n",
       "      <td>14.4</td>\n",
       "      <td>2</td>\n",
       "      <td>164.332721</td>\n",
       "    </tr>\n",
       "    <tr>\n",
       "      <th>1</th>\n",
       "      <td>200</td>\n",
       "      <td>18.0</td>\n",
       "      <td>900</td>\n",
       "      <td>60</td>\n",
       "      <td>280.0</td>\n",
       "      <td>20.0</td>\n",
       "      <td>2</td>\n",
       "      <td>3119.815029</td>\n",
       "    </tr>\n",
       "    <tr>\n",
       "      <th>2</th>\n",
       "      <td>60</td>\n",
       "      <td>3.6</td>\n",
       "      <td>900</td>\n",
       "      <td>30</td>\n",
       "      <td>36.0</td>\n",
       "      <td>4.8</td>\n",
       "      <td>2</td>\n",
       "      <td>11.535960</td>\n",
       "    </tr>\n",
       "    <tr>\n",
       "      <th>3</th>\n",
       "      <td>150</td>\n",
       "      <td>4.5</td>\n",
       "      <td>900</td>\n",
       "      <td>80</td>\n",
       "      <td>180.0</td>\n",
       "      <td>24.0</td>\n",
       "      <td>2</td>\n",
       "      <td>512.994770</td>\n",
       "    </tr>\n",
       "    <tr>\n",
       "      <th>4</th>\n",
       "      <td>190</td>\n",
       "      <td>7.6</td>\n",
       "      <td>1400</td>\n",
       "      <td>50</td>\n",
       "      <td>304.0</td>\n",
       "      <td>38.0</td>\n",
       "      <td>2</td>\n",
       "      <td>1561.370337</td>\n",
       "    </tr>\n",
       "    <tr>\n",
       "      <th>...</th>\n",
       "      <td>...</td>\n",
       "      <td>...</td>\n",
       "      <td>...</td>\n",
       "      <td>...</td>\n",
       "      <td>...</td>\n",
       "      <td>...</td>\n",
       "      <td>...</td>\n",
       "      <td>...</td>\n",
       "    </tr>\n",
       "    <tr>\n",
       "      <th>1505275</th>\n",
       "      <td>240</td>\n",
       "      <td>12.0</td>\n",
       "      <td>1100</td>\n",
       "      <td>50</td>\n",
       "      <td>144.0</td>\n",
       "      <td>14.4</td>\n",
       "      <td>2</td>\n",
       "      <td>1395.113084</td>\n",
       "    </tr>\n",
       "    <tr>\n",
       "      <th>1505276</th>\n",
       "      <td>30</td>\n",
       "      <td>2.1</td>\n",
       "      <td>1100</td>\n",
       "      <td>90</td>\n",
       "      <td>48.0</td>\n",
       "      <td>3.6</td>\n",
       "      <td>1</td>\n",
       "      <td>20.119844</td>\n",
       "    </tr>\n",
       "    <tr>\n",
       "      <th>1505277</th>\n",
       "      <td>190</td>\n",
       "      <td>7.6</td>\n",
       "      <td>1200</td>\n",
       "      <td>30</td>\n",
       "      <td>190.0</td>\n",
       "      <td>38.0</td>\n",
       "      <td>1</td>\n",
       "      <td>670.173099</td>\n",
       "    </tr>\n",
       "    <tr>\n",
       "      <th>1505278</th>\n",
       "      <td>40</td>\n",
       "      <td>2.4</td>\n",
       "      <td>800</td>\n",
       "      <td>50</td>\n",
       "      <td>56.0</td>\n",
       "      <td>6.4</td>\n",
       "      <td>1</td>\n",
       "      <td>14.236114</td>\n",
       "    </tr>\n",
       "    <tr>\n",
       "      <th>1505279</th>\n",
       "      <td>190</td>\n",
       "      <td>3.8</td>\n",
       "      <td>1400</td>\n",
       "      <td>0</td>\n",
       "      <td>152.0</td>\n",
       "      <td>11.4</td>\n",
       "      <td>2</td>\n",
       "      <td>0.000000</td>\n",
       "    </tr>\n",
       "  </tbody>\n",
       "</table>\n",
       "<p>1505280 rows × 8 columns</p>\n",
       "</div>"
      ],
      "text/plain": [
       "         extruder_size  metering_depth  polymer_density  rpm  screw_pitch  \\\n",
       "0                   90             2.7              900   90        162.0   \n",
       "1                  200            18.0              900   60        280.0   \n",
       "2                   60             3.6              900   30         36.0   \n",
       "3                  150             4.5              900   80        180.0   \n",
       "4                  190             7.6             1400   50        304.0   \n",
       "...                ...             ...              ...  ...          ...   \n",
       "1505275            240            12.0             1100   50        144.0   \n",
       "1505276             30             2.1             1100   90         48.0   \n",
       "1505277            190             7.6             1200   30        190.0   \n",
       "1505278             40             2.4              800   50         56.0   \n",
       "1505279            190             3.8             1400    0        152.0   \n",
       "\n",
       "         flight_width  number_flight   throughput  \n",
       "0                14.4              2   164.332721  \n",
       "1                20.0              2  3119.815029  \n",
       "2                 4.8              2    11.535960  \n",
       "3                24.0              2   512.994770  \n",
       "4                38.0              2  1561.370337  \n",
       "...               ...            ...          ...  \n",
       "1505275          14.4              2  1395.113084  \n",
       "1505276           3.6              1    20.119844  \n",
       "1505277          38.0              1   670.173099  \n",
       "1505278           6.4              1    14.236114  \n",
       "1505279          11.4              2     0.000000  \n",
       "\n",
       "[1505280 rows x 8 columns]"
      ]
     },
     "execution_count": 2,
     "metadata": {},
     "output_type": "execute_result"
    }
   ],
   "source": [
    "df = pd.read_csv(\"../data/dataset_generated_by_extrucal.csv\")\n",
    "df"
   ]
  },
  {
   "cell_type": "code",
   "execution_count": 3,
   "id": "5d28cdb5-5535-4e41-b79c-f1b24aa9609c",
   "metadata": {},
   "outputs": [
    {
     "name": "stdout",
     "output_type": "stream",
     "text": [
      "<class 'pandas.core.frame.DataFrame'>\n",
      "RangeIndex: 1505280 entries, 0 to 1505279\n",
      "Data columns (total 8 columns):\n",
      " #   Column           Non-Null Count    Dtype  \n",
      "---  ------           --------------    -----  \n",
      " 0   extruder_size    1505280 non-null  int64  \n",
      " 1   metering_depth   1505280 non-null  float64\n",
      " 2   polymer_density  1505280 non-null  int64  \n",
      " 3   rpm              1505280 non-null  int64  \n",
      " 4   screw_pitch      1505280 non-null  float64\n",
      " 5   flight_width     1505280 non-null  float64\n",
      " 6   number_flight    1505280 non-null  int64  \n",
      " 7   throughput       1505280 non-null  float64\n",
      "dtypes: float64(4), int64(4)\n",
      "memory usage: 91.9 MB\n"
     ]
    }
   ],
   "source": [
    "df.info()"
   ]
  },
  {
   "cell_type": "code",
   "execution_count": 4,
   "id": "908fb6bd-a682-47ec-a9fe-57b9691fe219",
   "metadata": {},
   "outputs": [
    {
     "data": {
      "text/plain": [
       "extruder_size           24\n",
       "metering_depth         114\n",
       "polymer_density          7\n",
       "rpm                     10\n",
       "screw_pitch            102\n",
       "flight_width           116\n",
       "number_flight            2\n",
       "throughput         1354753\n",
       "dtype: int64"
      ]
     },
     "execution_count": 4,
     "metadata": {},
     "output_type": "execute_result"
    }
   ],
   "source": [
    "df.nunique()"
   ]
  },
  {
   "cell_type": "markdown",
   "id": "0bb0e741-2ca3-4923-87a2-c702fb85e044",
   "metadata": {},
   "source": [
    "# Data Distribution Check"
   ]
  },
  {
   "cell_type": "markdown",
   "id": "f3e52a3f-379d-4b13-9414-2b2a6326eb7b",
   "metadata": {
    "tags": []
   },
   "source": [
    "## 1. Features"
   ]
  },
  {
   "cell_type": "code",
   "execution_count": 5,
   "id": "4e7b4dae-1561-41e8-bf97-9e1f803c9c72",
   "metadata": {},
   "outputs": [
    {
     "data": {
      "image/png": "[encoded data removed]",
      "text/plain": [
       "<Figure size 864x432 with 6 Axes>"
      ]
     },
     "metadata": {
      "needs_background": "light"
     },
     "output_type": "display_data"
    }
   ],
   "source": [
    "fig, axs = plt.subplots(figsize=(12, 6), nrows=2, ncols=3)\n",
    "r = 0\n",
    "c = 0\n",
    "for feature in df.columns[:6]:\n",
    "    axs[r, c].hist(df[feature], bins=50)\n",
    "    axs[r, c].set_title(f\"{feature}\")\n",
    "    axs[r, c].set_xlabel(f\"{feature}\")\n",
    "    if c < 2:\n",
    "        c += 1\n",
    "    else:\n",
    "        r += 1\n",
    "        c = 0\n",
    "plt.tight_layout()\n",
    "plt.show();"
   ]
  },
  {
   "cell_type": "markdown",
   "id": "b3c23ad7-d99a-4030-ab1a-84cbab46ae42",
   "metadata": {},
   "source": [
    "#### After Log Transformation for `metering_depth`, `screw_pitch`, and `flight_width`"
   ]
  },
  {
   "cell_type": "code",
   "execution_count": 6,
   "id": "a3439065-65ab-4b8d-85ac-7d40551da00e",
   "metadata": {},
   "outputs": [],
   "source": [
    "log_features = [\"metering_depth\", \"screw_pitch\", \"flight_width\"]"
   ]
  },
  {
   "cell_type": "code",
   "execution_count": 7,
   "id": "af8746c3-e72e-43b9-b905-8bca9ca9bf8c",
   "metadata": {},
   "outputs": [
    {
     "data": {
      "image/png": "[encoded data removed]",
      "text/plain": [
       "<Figure size 864x432 with 3 Axes>"
      ]
     },
     "metadata": {
      "needs_background": "light"
     },
     "output_type": "display_data"
    }
   ],
   "source": [
    "fig, axs = plt.subplots(figsize=(12, 6), nrows=1, ncols=3)\n",
    "for i, feature in enumerate(log_features):\n",
    "    axs[i].hist(safe_log(df[feature]), bins=50)\n",
    "    axs[i].set_title(f\"log_{feature}\")\n",
    "    axs[i].set_xlabel(f\"log_{feature}\")\n",
    "plt.tight_layout()\n",
    "plt.show();"
   ]
  },
  {
   "cell_type": "markdown",
   "id": "b73b3419-fe37-443d-ad2d-e7ee400e4793",
   "metadata": {},
   "source": [
    "## 2. Target"
   ]
  },
  {
   "cell_type": "code",
   "execution_count": 8,
   "id": "ada28770-05b4-4873-9573-9dd79f4d4951",
   "metadata": {},
   "outputs": [
    {
     "data": {
      "image/png": "[encoded data removed]",
      "text/plain": [
       "<Figure size 432x288 with 1 Axes>"
      ]
     },
     "metadata": {
      "needs_background": "light"
     },
     "output_type": "display_data"
    }
   ],
   "source": [
    "plt.figure()\n",
    "plt.hist(df[\"throughput\"], bins=50)\n",
    "plt.title(\"throughput\")\n",
    "plt.xlabel(\"throughput\")\n",
    "plt.show();"
   ]
  },
  {
   "cell_type": "markdown",
   "id": "10d99444-ceac-451c-be41-27dd36e649eb",
   "metadata": {},
   "source": [
    "#### After Log Transformation for `throughput`"
   ]
  },
  {
   "cell_type": "code",
   "execution_count": 9,
   "id": "94e51f4a-b622-461d-ac56-263350346ba0",
   "metadata": {},
   "outputs": [
    {
     "data": {
      "image/png": "[encoded data removed]",
      "text/plain": [
       "<Figure size 432x288 with 1 Axes>"
      ]
     },
     "metadata": {
      "needs_background": "light"
     },
     "output_type": "display_data"
    }
   ],
   "source": [
    "plt.figure()\n",
    "plt.hist(safe_log(df[\"throughput\"]), bins=50)\n",
    "plt.title(\"throughput\")\n",
    "plt.xlabel(\"throughput\")\n",
    "plt.show();"
   ]
  },
  {
   "cell_type": "markdown",
   "id": "4825de6d-bf6c-4415-8e15-da98eea05510",
   "metadata": {},
   "source": [
    "# Conclusion"
   ]
  },
  {
   "cell_type": "markdown",
   "id": "17593acd-aa99-4fdb-b295-fa43689b4a82",
   "metadata": {},
   "source": [
    "#### Log-transformation will be applied to `metering_depth`, `screw_pitch`, `flight_width`, and `throughput`"
   ]
  }
 ],
 "metadata": {
  "kernelspec": {
   "display_name": "Python [conda env:extrucal]",
   "language": "python",
   "name": "conda-env-extrucal-py"
  },
  "language_info": {
   "codemirror_mode": {
    "name": "ipython",
    "version": 3
   },
   "file_extension": ".py",
   "mimetype": "text/x-python",
   "name": "python",
   "nbconvert_exporter": "python",
   "pygments_lexer": "ipython3",
   "version": "3.9.10"
  }
 },
 "nbformat": 4,
 "nbformat_minor": 5
}
