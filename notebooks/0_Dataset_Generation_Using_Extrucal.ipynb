{
 "cells": [
  {
   "cell_type": "markdown",
   "id": "aa22d742-65db-4021-9518-ec3ab054b8d5",
   "metadata": {},
   "source": [
    "# 0. Imports"
   ]
  },
  {
   "cell_type": "code",
   "execution_count": 1,
   "id": "d0c7da01-322f-41d1-bf3d-b5a643fcd7df",
   "metadata": {},
   "outputs": [],
   "source": [
    "import random\n",
    "\n",
    "import numpy as np\n",
    "import pandas as pd\n",
    "\n",
    "from extrucal.extrusion import throughput_cal\n",
    "\n",
    "from sklearn.utils import shuffle\n",
    "\n",
    "random.seed(0)"
   ]
  },
  {
   "cell_type": "markdown",
   "id": "20a3bbd8-2c04-454b-84db-87f2ce93eebe",
   "metadata": {},
   "source": [
    "# 1. Dataset Generation using `extrucal`"
   ]
  },
  {
   "cell_type": "markdown",
   "id": "442a3687-cb36-474f-be59-7d7c0248f1d9",
   "metadata": {},
   "source": [
    "## 1.1 Preparation of Lists for Arguments"
   ]
  },
  {
   "cell_type": "code",
   "execution_count": 2,
   "id": "6ef5310f-cc3e-4004-b0c7-52a9ece5734e",
   "metadata": {},
   "outputs": [
    {
     "data": {
      "text/plain": [
       "24"
      ]
     },
     "execution_count": 2,
     "metadata": {},
     "output_type": "execute_result"
    }
   ],
   "source": [
    "extruder_size = [size for size in range(20, 251, 10)]\n",
    "extruder_size_df = pd.DataFrame({\"extruder_size\": extruder_size})\n",
    "len(extruder_size)"
   ]
  },
  {
   "cell_type": "code",
   "execution_count": 3,
   "id": "9e47c347-8401-4582-9412-01d6b66c971b",
   "metadata": {},
   "outputs": [
    {
     "data": {
      "text/plain": [
       "8"
      ]
     },
     "execution_count": 3,
     "metadata": {},
     "output_type": "execute_result"
    }
   ],
   "source": [
    "metering_depth_percent = [\n",
    "    np.round(percent, 2) for percent in np.arange(0.02, 0.1, 0.01)\n",
    "]\n",
    "metering_depth_percent_df = pd.DataFrame(\n",
    "    {\"metering_depth_percent\": metering_depth_percent}\n",
    ")\n",
    "len(metering_depth_percent)"
   ]
  },
  {
   "cell_type": "code",
   "execution_count": 4,
   "id": "58bd6ea2-df2f-4061-a411-912e613366ea",
   "metadata": {},
   "outputs": [
    {
     "data": {
      "text/plain": [
       "7"
      ]
     },
     "execution_count": 4,
     "metadata": {},
     "output_type": "execute_result"
    }
   ],
   "source": [
    "polymer_density = [density for density in range(800, 1500, 100)]\n",
    "polymer_density_df = pd.DataFrame({\"polymer_density\": polymer_density})\n",
    "len(polymer_density)"
   ]
  },
  {
   "cell_type": "code",
   "execution_count": 5,
   "id": "eae08626-4c22-4375-b8ee-4c8aa5f52f2b",
   "metadata": {},
   "outputs": [
    {
     "data": {
      "text/plain": [
       "7"
      ]
     },
     "execution_count": 5,
     "metadata": {},
     "output_type": "execute_result"
    }
   ],
   "source": [
    "screw_pitch_percent = [np.round(pitch, 2) for pitch in np.arange(0.6, 2, 0.2)]\n",
    "screw_pitch_percent_df = pd.DataFrame({\"screw_pitch_percent\": screw_pitch_percent})\n",
    "len(screw_pitch_percent)"
   ]
  },
  {
   "cell_type": "code",
   "execution_count": 6,
   "id": "5ead3713-3ce2-41dd-9f62-7db3f42aa338",
   "metadata": {},
   "outputs": [
    {
     "data": {
      "text/plain": [
       "8"
      ]
     },
     "execution_count": 6,
     "metadata": {},
     "output_type": "execute_result"
    }
   ],
   "source": [
    "flight_width_percent = [np.round(percent, 2) for percent in np.arange(0.06, 0.2, 0.02)]\n",
    "flight_width_percent_df = pd.DataFrame({\"flight_width_percent\": flight_width_percent})\n",
    "len(flight_width_percent)"
   ]
  },
  {
   "cell_type": "code",
   "execution_count": 7,
   "id": "a56e9631-9882-4c6d-91e8-6d95ad9a2219",
   "metadata": {},
   "outputs": [
    {
     "data": {
      "text/plain": [
       "2"
      ]
     },
     "execution_count": 7,
     "metadata": {},
     "output_type": "execute_result"
    }
   ],
   "source": [
    "number_flight = [1, 2]\n",
    "number_flight_df = pd.DataFrame({\"number_flight\": number_flight})\n",
    "len(number_flight)"
   ]
  },
  {
   "cell_type": "code",
   "execution_count": 8,
   "id": "afc5585c-b9b7-43ea-a739-0f81cb6a6d20",
   "metadata": {},
   "outputs": [
    {
     "data": {
      "text/plain": [
       "10"
      ]
     },
     "execution_count": 8,
     "metadata": {},
     "output_type": "execute_result"
    }
   ],
   "source": [
    "rpm = [r for r in range(0, 100, 10)]\n",
    "rpm_df = pd.DataFrame({\"rpm\": rpm})\n",
    "len(rpm)"
   ]
  },
  {
   "cell_type": "markdown",
   "id": "d8d0bd12-242f-45ac-ace8-3a50dd19d1fd",
   "metadata": {},
   "source": [
    "## 1.2. Preparation of Dataframe"
   ]
  },
  {
   "cell_type": "code",
   "execution_count": 9,
   "id": "8bbf7a67-7f4b-4a1b-9e9b-e7bcf226c98d",
   "metadata": {},
   "outputs": [],
   "source": [
    "df = (\n",
    "    extruder_size_df.join(metering_depth_percent_df, how=\"cross\")\n",
    "    .join(polymer_density_df, how=\"cross\")\n",
    "    .join(screw_pitch_percent_df, how=\"cross\")\n",
    "    .join(flight_width_percent_df, how=\"cross\")\n",
    "    .join(number_flight_df, how=\"cross\")\n",
    "    .join(rpm_df, how=\"cross\")\n",
    ")"
   ]
  },
  {
   "cell_type": "code",
   "execution_count": 10,
   "id": "38313021-8686-4027-b750-dc904686b353",
   "metadata": {},
   "outputs": [
    {
     "data": {
      "text/plain": [
       "1505280"
      ]
     },
     "execution_count": 10,
     "metadata": {},
     "output_type": "execute_result"
    }
   ],
   "source": [
    "len(df)"
   ]
  },
  {
   "cell_type": "code",
   "execution_count": 11,
   "id": "c5f73551-211c-40b7-8eac-701f04360302",
   "metadata": {},
   "outputs": [],
   "source": [
    "df[\"metering_depth\"] = df[\"extruder_size\"] * df[\"metering_depth_percent\"]\n",
    "df[\"screw_pitch\"] = df[\"extruder_size\"] * df[\"screw_pitch_percent\"]\n",
    "df[\"flight_width\"] = df[\"extruder_size\"] * df[\"flight_width_percent\"]"
   ]
  },
  {
   "cell_type": "code",
   "execution_count": 12,
   "id": "b587c524-ef56-43ec-b6b8-bd9d3ffb8e1c",
   "metadata": {},
   "outputs": [
    {
     "data": {
      "text/html": [
       "<div>\n",
       "<style scoped>\n",
       "    .dataframe tbody tr th:only-of-type {\n",
       "        vertical-align: middle;\n",
       "    }\n",
       "\n",
       "    .dataframe tbody tr th {\n",
       "        vertical-align: top;\n",
       "    }\n",
       "\n",
       "    .dataframe thead th {\n",
       "        text-align: right;\n",
       "    }\n",
       "</style>\n",
       "<table border=\"1\" class=\"dataframe\">\n",
       "  <thead>\n",
       "    <tr style=\"text-align: right;\">\n",
       "      <th></th>\n",
       "      <th>extruder_size</th>\n",
       "      <th>metering_depth</th>\n",
       "      <th>polymer_density</th>\n",
       "      <th>rpm</th>\n",
       "      <th>screw_pitch</th>\n",
       "      <th>flight_width</th>\n",
       "      <th>number_flight</th>\n",
       "    </tr>\n",
       "  </thead>\n",
       "  <tbody>\n",
       "    <tr>\n",
       "      <th>0</th>\n",
       "      <td>20</td>\n",
       "      <td>0.4</td>\n",
       "      <td>800</td>\n",
       "      <td>0</td>\n",
       "      <td>12.0</td>\n",
       "      <td>1.2</td>\n",
       "      <td>1</td>\n",
       "    </tr>\n",
       "    <tr>\n",
       "      <th>1</th>\n",
       "      <td>20</td>\n",
       "      <td>0.4</td>\n",
       "      <td>800</td>\n",
       "      <td>10</td>\n",
       "      <td>12.0</td>\n",
       "      <td>1.2</td>\n",
       "      <td>1</td>\n",
       "    </tr>\n",
       "    <tr>\n",
       "      <th>2</th>\n",
       "      <td>20</td>\n",
       "      <td>0.4</td>\n",
       "      <td>800</td>\n",
       "      <td>20</td>\n",
       "      <td>12.0</td>\n",
       "      <td>1.2</td>\n",
       "      <td>1</td>\n",
       "    </tr>\n",
       "    <tr>\n",
       "      <th>3</th>\n",
       "      <td>20</td>\n",
       "      <td>0.4</td>\n",
       "      <td>800</td>\n",
       "      <td>30</td>\n",
       "      <td>12.0</td>\n",
       "      <td>1.2</td>\n",
       "      <td>1</td>\n",
       "    </tr>\n",
       "    <tr>\n",
       "      <th>4</th>\n",
       "      <td>20</td>\n",
       "      <td>0.4</td>\n",
       "      <td>800</td>\n",
       "      <td>40</td>\n",
       "      <td>12.0</td>\n",
       "      <td>1.2</td>\n",
       "      <td>1</td>\n",
       "    </tr>\n",
       "  </tbody>\n",
       "</table>\n",
       "</div>"
      ],
      "text/plain": [
       "   extruder_size  metering_depth  polymer_density  rpm  screw_pitch  \\\n",
       "0             20             0.4              800    0         12.0   \n",
       "1             20             0.4              800   10         12.0   \n",
       "2             20             0.4              800   20         12.0   \n",
       "3             20             0.4              800   30         12.0   \n",
       "4             20             0.4              800   40         12.0   \n",
       "\n",
       "   flight_width  number_flight  \n",
       "0           1.2              1  \n",
       "1           1.2              1  \n",
       "2           1.2              1  \n",
       "3           1.2              1  \n",
       "4           1.2              1  "
      ]
     },
     "execution_count": 12,
     "metadata": {},
     "output_type": "execute_result"
    }
   ],
   "source": [
    "new_col_order = [\n",
    "    \"extruder_size\",\n",
    "    \"metering_depth\",\n",
    "    \"polymer_density\",\n",
    "    \"rpm\",\n",
    "    \"screw_pitch\",\n",
    "    \"flight_width\",\n",
    "    \"number_flight\",\n",
    "]\n",
    "\n",
    "df = df[new_col_order]\n",
    "df.head()"
   ]
  },
  {
   "cell_type": "code",
   "execution_count": 13,
   "id": "d37316d8-1f5e-4fd9-afc7-0e44dbb6d2fb",
   "metadata": {},
   "outputs": [
    {
     "name": "stdout",
     "output_type": "stream",
     "text": [
      "CPU times: total: 9min 44s\n",
      "Wall time: 9min 55s\n"
     ]
    }
   ],
   "source": [
    "%%time\n",
    "\n",
    "df.loc[:, \"throughput\"] = df.apply(\n",
    "    lambda row: throughput_cal(\n",
    "        row[\"extruder_size\"],\n",
    "        row[\"metering_depth\"],\n",
    "        row[\"polymer_density\"],\n",
    "        row[\"rpm\"],\n",
    "        row[\"screw_pitch\"],\n",
    "        row[\"flight_width\"],\n",
    "        int(row[\"number_flight\"]),\n",
    "    )*random.uniform(0.95, 1.05),  # +/- 5% randomness was added to the calculated throughput\n",
    "    axis=1,\n",
    ")"
   ]
  },
  {
   "cell_type": "code",
   "execution_count": 14,
   "id": "70633ef3-6331-4556-a911-7ade4e4260f4",
   "metadata": {},
   "outputs": [
    {
     "data": {
      "text/html": [
       "<div>\n",
       "<style scoped>\n",
       "    .dataframe tbody tr th:only-of-type {\n",
       "        vertical-align: middle;\n",
       "    }\n",
       "\n",
       "    .dataframe tbody tr th {\n",
       "        vertical-align: top;\n",
       "    }\n",
       "\n",
       "    .dataframe thead th {\n",
       "        text-align: right;\n",
       "    }\n",
       "</style>\n",
       "<table border=\"1\" class=\"dataframe\">\n",
       "  <thead>\n",
       "    <tr style=\"text-align: right;\">\n",
       "      <th></th>\n",
       "      <th>extruder_size</th>\n",
       "      <th>metering_depth</th>\n",
       "      <th>polymer_density</th>\n",
       "      <th>rpm</th>\n",
       "      <th>screw_pitch</th>\n",
       "      <th>flight_width</th>\n",
       "      <th>number_flight</th>\n",
       "      <th>throughput</th>\n",
       "    </tr>\n",
       "  </thead>\n",
       "  <tbody>\n",
       "    <tr>\n",
       "      <th>0</th>\n",
       "      <td>20</td>\n",
       "      <td>0.4</td>\n",
       "      <td>800</td>\n",
       "      <td>0</td>\n",
       "      <td>12.0</td>\n",
       "      <td>1.2</td>\n",
       "      <td>1</td>\n",
       "      <td>0.000000</td>\n",
       "    </tr>\n",
       "    <tr>\n",
       "      <th>1</th>\n",
       "      <td>20</td>\n",
       "      <td>0.4</td>\n",
       "      <td>800</td>\n",
       "      <td>10</td>\n",
       "      <td>12.0</td>\n",
       "      <td>1.2</td>\n",
       "      <td>1</td>\n",
       "      <td>0.062656</td>\n",
       "    </tr>\n",
       "    <tr>\n",
       "      <th>2</th>\n",
       "      <td>20</td>\n",
       "      <td>0.4</td>\n",
       "      <td>800</td>\n",
       "      <td>20</td>\n",
       "      <td>12.0</td>\n",
       "      <td>1.2</td>\n",
       "      <td>1</td>\n",
       "      <td>0.121191</td>\n",
       "    </tr>\n",
       "    <tr>\n",
       "      <th>3</th>\n",
       "      <td>20</td>\n",
       "      <td>0.4</td>\n",
       "      <td>800</td>\n",
       "      <td>30</td>\n",
       "      <td>12.0</td>\n",
       "      <td>1.2</td>\n",
       "      <td>1</td>\n",
       "      <td>0.178825</td>\n",
       "    </tr>\n",
       "    <tr>\n",
       "      <th>4</th>\n",
       "      <td>20</td>\n",
       "      <td>0.4</td>\n",
       "      <td>800</td>\n",
       "      <td>40</td>\n",
       "      <td>12.0</td>\n",
       "      <td>1.2</td>\n",
       "      <td>1</td>\n",
       "      <td>0.244599</td>\n",
       "    </tr>\n",
       "    <tr>\n",
       "      <th>...</th>\n",
       "      <td>...</td>\n",
       "      <td>...</td>\n",
       "      <td>...</td>\n",
       "      <td>...</td>\n",
       "      <td>...</td>\n",
       "      <td>...</td>\n",
       "      <td>...</td>\n",
       "      <td>...</td>\n",
       "    </tr>\n",
       "    <tr>\n",
       "      <th>1505275</th>\n",
       "      <td>250</td>\n",
       "      <td>22.5</td>\n",
       "      <td>1400</td>\n",
       "      <td>50</td>\n",
       "      <td>450.0</td>\n",
       "      <td>50.0</td>\n",
       "      <td>2</td>\n",
       "      <td>8158.826094</td>\n",
       "    </tr>\n",
       "    <tr>\n",
       "      <th>1505276</th>\n",
       "      <td>250</td>\n",
       "      <td>22.5</td>\n",
       "      <td>1400</td>\n",
       "      <td>60</td>\n",
       "      <td>450.0</td>\n",
       "      <td>50.0</td>\n",
       "      <td>2</td>\n",
       "      <td>9848.225838</td>\n",
       "    </tr>\n",
       "    <tr>\n",
       "      <th>1505277</th>\n",
       "      <td>250</td>\n",
       "      <td>22.5</td>\n",
       "      <td>1400</td>\n",
       "      <td>70</td>\n",
       "      <td>450.0</td>\n",
       "      <td>50.0</td>\n",
       "      <td>2</td>\n",
       "      <td>11321.475278</td>\n",
       "    </tr>\n",
       "    <tr>\n",
       "      <th>1505278</th>\n",
       "      <td>250</td>\n",
       "      <td>22.5</td>\n",
       "      <td>1400</td>\n",
       "      <td>80</td>\n",
       "      <td>450.0</td>\n",
       "      <td>50.0</td>\n",
       "      <td>2</td>\n",
       "      <td>13706.918769</td>\n",
       "    </tr>\n",
       "    <tr>\n",
       "      <th>1505279</th>\n",
       "      <td>250</td>\n",
       "      <td>22.5</td>\n",
       "      <td>1400</td>\n",
       "      <td>90</td>\n",
       "      <td>450.0</td>\n",
       "      <td>50.0</td>\n",
       "      <td>2</td>\n",
       "      <td>14710.017058</td>\n",
       "    </tr>\n",
       "  </tbody>\n",
       "</table>\n",
       "<p>1505280 rows × 8 columns</p>\n",
       "</div>"
      ],
      "text/plain": [
       "         extruder_size  metering_depth  polymer_density  rpm  screw_pitch  \\\n",
       "0                   20             0.4              800    0         12.0   \n",
       "1                   20             0.4              800   10         12.0   \n",
       "2                   20             0.4              800   20         12.0   \n",
       "3                   20             0.4              800   30         12.0   \n",
       "4                   20             0.4              800   40         12.0   \n",
       "...                ...             ...              ...  ...          ...   \n",
       "1505275            250            22.5             1400   50        450.0   \n",
       "1505276            250            22.5             1400   60        450.0   \n",
       "1505277            250            22.5             1400   70        450.0   \n",
       "1505278            250            22.5             1400   80        450.0   \n",
       "1505279            250            22.5             1400   90        450.0   \n",
       "\n",
       "         flight_width  number_flight    throughput  \n",
       "0                 1.2              1      0.000000  \n",
       "1                 1.2              1      0.062656  \n",
       "2                 1.2              1      0.121191  \n",
       "3                 1.2              1      0.178825  \n",
       "4                 1.2              1      0.244599  \n",
       "...               ...            ...           ...  \n",
       "1505275          50.0              2   8158.826094  \n",
       "1505276          50.0              2   9848.225838  \n",
       "1505277          50.0              2  11321.475278  \n",
       "1505278          50.0              2  13706.918769  \n",
       "1505279          50.0              2  14710.017058  \n",
       "\n",
       "[1505280 rows x 8 columns]"
      ]
     },
     "execution_count": 14,
     "metadata": {},
     "output_type": "execute_result"
    }
   ],
   "source": [
    "df"
   ]
  },
  {
   "cell_type": "code",
   "execution_count": 15,
   "id": "05b1a598-dc61-4e3f-a6e7-624e705b902c",
   "metadata": {},
   "outputs": [],
   "source": [
    "df = shuffle(df)"
   ]
  },
  {
   "cell_type": "code",
   "execution_count": 16,
   "id": "c29a164e-54ce-41df-b1da-f382898296c4",
   "metadata": {},
   "outputs": [
    {
     "data": {
      "text/html": [
       "<div>\n",
       "<style scoped>\n",
       "    .dataframe tbody tr th:only-of-type {\n",
       "        vertical-align: middle;\n",
       "    }\n",
       "\n",
       "    .dataframe tbody tr th {\n",
       "        vertical-align: top;\n",
       "    }\n",
       "\n",
       "    .dataframe thead th {\n",
       "        text-align: right;\n",
       "    }\n",
       "</style>\n",
       "<table border=\"1\" class=\"dataframe\">\n",
       "  <thead>\n",
       "    <tr style=\"text-align: right;\">\n",
       "      <th></th>\n",
       "      <th>extruder_size</th>\n",
       "      <th>metering_depth</th>\n",
       "      <th>polymer_density</th>\n",
       "      <th>rpm</th>\n",
       "      <th>screw_pitch</th>\n",
       "      <th>flight_width</th>\n",
       "      <th>number_flight</th>\n",
       "      <th>throughput</th>\n",
       "    </tr>\n",
       "  </thead>\n",
       "  <tbody>\n",
       "    <tr>\n",
       "      <th>623687</th>\n",
       "      <td>110</td>\n",
       "      <td>9.9</td>\n",
       "      <td>1100</td>\n",
       "      <td>70</td>\n",
       "      <td>198.0</td>\n",
       "      <td>6.6</td>\n",
       "      <td>1</td>\n",
       "      <td>1098.589031</td>\n",
       "    </tr>\n",
       "    <tr>\n",
       "      <th>1141982</th>\n",
       "      <td>200</td>\n",
       "      <td>6.0</td>\n",
       "      <td>1200</td>\n",
       "      <td>20</td>\n",
       "      <td>280.0</td>\n",
       "      <td>24.0</td>\n",
       "      <td>1</td>\n",
       "      <td>570.539214</td>\n",
       "    </tr>\n",
       "    <tr>\n",
       "      <th>942441</th>\n",
       "      <td>170</td>\n",
       "      <td>3.4</td>\n",
       "      <td>900</td>\n",
       "      <td>10</td>\n",
       "      <td>204.0</td>\n",
       "      <td>17.0</td>\n",
       "      <td>1</td>\n",
       "      <td>80.381221</td>\n",
       "    </tr>\n",
       "    <tr>\n",
       "      <th>187275</th>\n",
       "      <td>40</td>\n",
       "      <td>3.6</td>\n",
       "      <td>1400</td>\n",
       "      <td>50</td>\n",
       "      <td>32.0</td>\n",
       "      <td>4.8</td>\n",
       "      <td>2</td>\n",
       "      <td>16.562224</td>\n",
       "    </tr>\n",
       "    <tr>\n",
       "      <th>687122</th>\n",
       "      <td>120</td>\n",
       "      <td>10.8</td>\n",
       "      <td>1200</td>\n",
       "      <td>20</td>\n",
       "      <td>144.0</td>\n",
       "      <td>16.8</td>\n",
       "      <td>1</td>\n",
       "      <td>302.226196</td>\n",
       "    </tr>\n",
       "    <tr>\n",
       "      <th>...</th>\n",
       "      <td>...</td>\n",
       "      <td>...</td>\n",
       "      <td>...</td>\n",
       "      <td>...</td>\n",
       "      <td>...</td>\n",
       "      <td>...</td>\n",
       "      <td>...</td>\n",
       "      <td>...</td>\n",
       "    </tr>\n",
       "    <tr>\n",
       "      <th>1495250</th>\n",
       "      <td>250</td>\n",
       "      <td>20.0</td>\n",
       "      <td>1300</td>\n",
       "      <td>0</td>\n",
       "      <td>150.0</td>\n",
       "      <td>25.0</td>\n",
       "      <td>2</td>\n",
       "      <td>0.000000</td>\n",
       "    </tr>\n",
       "    <tr>\n",
       "      <th>950338</th>\n",
       "      <td>170</td>\n",
       "      <td>5.1</td>\n",
       "      <td>900</td>\n",
       "      <td>80</td>\n",
       "      <td>204.0</td>\n",
       "      <td>23.8</td>\n",
       "      <td>2</td>\n",
       "      <td>725.163605</td>\n",
       "    </tr>\n",
       "    <tr>\n",
       "      <th>552044</th>\n",
       "      <td>100</td>\n",
       "      <td>8.0</td>\n",
       "      <td>1000</td>\n",
       "      <td>40</td>\n",
       "      <td>180.0</td>\n",
       "      <td>10.0</td>\n",
       "      <td>1</td>\n",
       "      <td>367.109598</td>\n",
       "    </tr>\n",
       "    <tr>\n",
       "      <th>268331</th>\n",
       "      <td>60</td>\n",
       "      <td>2.4</td>\n",
       "      <td>900</td>\n",
       "      <td>10</td>\n",
       "      <td>84.0</td>\n",
       "      <td>3.6</td>\n",
       "      <td>2</td>\n",
       "      <td>7.367364</td>\n",
       "    </tr>\n",
       "    <tr>\n",
       "      <th>531744</th>\n",
       "      <td>100</td>\n",
       "      <td>5.0</td>\n",
       "      <td>1300</td>\n",
       "      <td>40</td>\n",
       "      <td>160.0</td>\n",
       "      <td>12.0</td>\n",
       "      <td>1</td>\n",
       "      <td>266.136616</td>\n",
       "    </tr>\n",
       "  </tbody>\n",
       "</table>\n",
       "<p>1505280 rows × 8 columns</p>\n",
       "</div>"
      ],
      "text/plain": [
       "         extruder_size  metering_depth  polymer_density  rpm  screw_pitch  \\\n",
       "623687             110             9.9             1100   70        198.0   \n",
       "1141982            200             6.0             1200   20        280.0   \n",
       "942441             170             3.4              900   10        204.0   \n",
       "187275              40             3.6             1400   50         32.0   \n",
       "687122             120            10.8             1200   20        144.0   \n",
       "...                ...             ...              ...  ...          ...   \n",
       "1495250            250            20.0             1300    0        150.0   \n",
       "950338             170             5.1              900   80        204.0   \n",
       "552044             100             8.0             1000   40        180.0   \n",
       "268331              60             2.4              900   10         84.0   \n",
       "531744             100             5.0             1300   40        160.0   \n",
       "\n",
       "         flight_width  number_flight   throughput  \n",
       "623687            6.6              1  1098.589031  \n",
       "1141982          24.0              1   570.539214  \n",
       "942441           17.0              1    80.381221  \n",
       "187275            4.8              2    16.562224  \n",
       "687122           16.8              1   302.226196  \n",
       "...               ...            ...          ...  \n",
       "1495250          25.0              2     0.000000  \n",
       "950338           23.8              2   725.163605  \n",
       "552044           10.0              1   367.109598  \n",
       "268331            3.6              2     7.367364  \n",
       "531744           12.0              1   266.136616  \n",
       "\n",
       "[1505280 rows x 8 columns]"
      ]
     },
     "execution_count": 16,
     "metadata": {},
     "output_type": "execute_result"
    }
   ],
   "source": [
    "df"
   ]
  },
  {
   "cell_type": "markdown",
   "id": "b978a3fc-1e0d-4242-9518-8eca224ddc4f",
   "metadata": {},
   "source": [
    "## 1.3. Save as CSV file"
   ]
  },
  {
   "cell_type": "code",
   "execution_count": 17,
   "id": "e376c9db-4acd-45dd-ba5a-51bee4515e87",
   "metadata": {},
   "outputs": [],
   "source": [
    "df.to_csv(\"../data/dataset_generated_by_extrucal.csv\", index=False)"
   ]
  }
 ],
 "metadata": {
  "kernelspec": {
   "display_name": "Python [conda env:extrucal_ml]",
   "language": "python",
   "name": "conda-env-extrucal_ml-py"
  },
  "language_info": {
   "codemirror_mode": {
    "name": "ipython",
    "version": 3
   },
   "file_extension": ".py",
   "mimetype": "text/x-python",
   "name": "python",
   "nbconvert_exporter": "python",
   "pygments_lexer": "ipython3",
   "version": "3.9.16"
  }
 },
 "nbformat": 4,
 "nbformat_minor": 5
}
