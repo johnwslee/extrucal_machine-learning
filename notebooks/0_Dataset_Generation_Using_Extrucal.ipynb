{
 "cells": [
  {
   "cell_type": "markdown",
   "id": "aa22d742-65db-4021-9518-ec3ab054b8d5",
   "metadata": {},
   "source": [
    "# Imports"
   ]
  },
  {
   "cell_type": "code",
   "execution_count": 1,
   "id": "d0c7da01-322f-41d1-bf3d-b5a643fcd7df",
   "metadata": {},
   "outputs": [],
   "source": [
    "import random\n",
    "\n",
    "import numpy as np\n",
    "import pandas as pd\n",
    "\n",
    "from extrucal.extrusion import throughput_cal\n",
    "\n",
    "from sklearn.utils import shuffle\n",
    "\n",
    "random.seed(0)"
   ]
  },
  {
   "cell_type": "markdown",
   "id": "20a3bbd8-2c04-454b-84db-87f2ce93eebe",
   "metadata": {},
   "source": [
    "# Dataset Generation using `extrucal`"
   ]
  },
  {
   "cell_type": "markdown",
   "id": "442a3687-cb36-474f-be59-7d7c0248f1d9",
   "metadata": {},
   "source": [
    "### 1. Preparation of Lists for Arguments"
   ]
  },
  {
   "cell_type": "code",
   "execution_count": 2,
   "id": "6ef5310f-cc3e-4004-b0c7-52a9ece5734e",
   "metadata": {},
   "outputs": [
    {
     "data": {
      "text/plain": [
       "24"
      ]
     },
     "execution_count": 2,
     "metadata": {},
     "output_type": "execute_result"
    }
   ],
   "source": [
    "extruder_size = [size for size in range(20, 251, 10)]\n",
    "extruder_size_df = pd.DataFrame({\"extruder_size\": extruder_size})\n",
    "len(extruder_size)"
   ]
  },
  {
   "cell_type": "code",
   "execution_count": 3,
   "id": "9e47c347-8401-4582-9412-01d6b66c971b",
   "metadata": {},
   "outputs": [
    {
     "data": {
      "text/plain": [
       "8"
      ]
     },
     "execution_count": 3,
     "metadata": {},
     "output_type": "execute_result"
    }
   ],
   "source": [
    "metering_depth_percent = [\n",
    "    np.round(percent, 2) for percent in np.arange(0.02, 0.1, 0.01)\n",
    "]\n",
    "metering_depth_percent_df = pd.DataFrame(\n",
    "    {\"metering_depth_percent\": metering_depth_percent}\n",
    ")\n",
    "len(metering_depth_percent)"
   ]
  },
  {
   "cell_type": "code",
   "execution_count": 4,
   "id": "58bd6ea2-df2f-4061-a411-912e613366ea",
   "metadata": {},
   "outputs": [
    {
     "data": {
      "text/plain": [
       "7"
      ]
     },
     "execution_count": 4,
     "metadata": {},
     "output_type": "execute_result"
    }
   ],
   "source": [
    "polymer_density = [density for density in range(800, 1500, 100)]\n",
    "polymer_density_df = pd.DataFrame({\"polymer_density\": polymer_density})\n",
    "len(polymer_density)"
   ]
  },
  {
   "cell_type": "code",
   "execution_count": 5,
   "id": "eae08626-4c22-4375-b8ee-4c8aa5f52f2b",
   "metadata": {},
   "outputs": [
    {
     "data": {
      "text/plain": [
       "7"
      ]
     },
     "execution_count": 5,
     "metadata": {},
     "output_type": "execute_result"
    }
   ],
   "source": [
    "screw_pitch_percent = [np.round(pitch, 2) for pitch in np.arange(0.6, 2, 0.2)]\n",
    "screw_pitch_percent_df = pd.DataFrame({\"screw_pitch_percent\": screw_pitch_percent})\n",
    "len(screw_pitch_percent)"
   ]
  },
  {
   "cell_type": "code",
   "execution_count": 6,
   "id": "5ead3713-3ce2-41dd-9f62-7db3f42aa338",
   "metadata": {},
   "outputs": [
    {
     "data": {
      "text/plain": [
       "8"
      ]
     },
     "execution_count": 6,
     "metadata": {},
     "output_type": "execute_result"
    }
   ],
   "source": [
    "flight_width_percent = [np.round(percent, 2) for percent in np.arange(0.06, 0.2, 0.02)]\n",
    "flight_width_percent_df = pd.DataFrame({\"flight_width_percent\": flight_width_percent})\n",
    "len(flight_width_percent)"
   ]
  },
  {
   "cell_type": "code",
   "execution_count": 7,
   "id": "a56e9631-9882-4c6d-91e8-6d95ad9a2219",
   "metadata": {},
   "outputs": [
    {
     "data": {
      "text/plain": [
       "2"
      ]
     },
     "execution_count": 7,
     "metadata": {},
     "output_type": "execute_result"
    }
   ],
   "source": [
    "number_flight = [1, 2]\n",
    "number_flight_df = pd.DataFrame({\"number_flight\": number_flight})\n",
    "len(number_flight)"
   ]
  },
  {
   "cell_type": "code",
   "execution_count": 8,
   "id": "afc5585c-b9b7-43ea-a739-0f81cb6a6d20",
   "metadata": {},
   "outputs": [
    {
     "data": {
      "text/plain": [
       "10"
      ]
     },
     "execution_count": 8,
     "metadata": {},
     "output_type": "execute_result"
    }
   ],
   "source": [
    "rpm = [r for r in range(0, 100, 10)]\n",
    "rpm_df = pd.DataFrame({\"rpm\": rpm})\n",
    "len(rpm)"
   ]
  },
  {
   "cell_type": "markdown",
   "id": "d8d0bd12-242f-45ac-ace8-3a50dd19d1fd",
   "metadata": {},
   "source": [
    "### 2. Preparation of Dataframe"
   ]
  },
  {
   "cell_type": "code",
   "execution_count": 9,
   "id": "8bbf7a67-7f4b-4a1b-9e9b-e7bcf226c98d",
   "metadata": {},
   "outputs": [],
   "source": [
    "df = (\n",
    "    extruder_size_df.join(metering_depth_percent_df, how=\"cross\")\n",
    "    .join(polymer_density_df, how=\"cross\")\n",
    "    .join(screw_pitch_percent_df, how=\"cross\")\n",
    "    .join(flight_width_percent_df, how=\"cross\")\n",
    "    .join(number_flight_df, how=\"cross\")\n",
    "    .join(rpm_df, how=\"cross\")\n",
    ")"
   ]
  },
  {
   "cell_type": "code",
   "execution_count": 10,
   "id": "38313021-8686-4027-b750-dc904686b353",
   "metadata": {},
   "outputs": [
    {
     "data": {
      "text/plain": [
       "1505280"
      ]
     },
     "execution_count": 10,
     "metadata": {},
     "output_type": "execute_result"
    }
   ],
   "source": [
    "len(df)"
   ]
  },
  {
   "cell_type": "code",
   "execution_count": 11,
   "id": "c5f73551-211c-40b7-8eac-701f04360302",
   "metadata": {},
   "outputs": [],
   "source": [
    "df[\"metering_depth\"] = df[\"extruder_size\"] * df[\"metering_depth_percent\"]\n",
    "df[\"screw_pitch\"] = df[\"extruder_size\"] * df[\"screw_pitch_percent\"]\n",
    "df[\"flight_width\"] = df[\"extruder_size\"] * df[\"flight_width_percent\"]"
   ]
  },
  {
   "cell_type": "code",
   "execution_count": 12,
   "id": "b587c524-ef56-43ec-b6b8-bd9d3ffb8e1c",
   "metadata": {},
   "outputs": [
    {
     "data": {
      "text/html": [
       "<div>\n",
       "<style scoped>\n",
       "    .dataframe tbody tr th:only-of-type {\n",
       "        vertical-align: middle;\n",
       "    }\n",
       "\n",
       "    .dataframe tbody tr th {\n",
       "        vertical-align: top;\n",
       "    }\n",
       "\n",
       "    .dataframe thead th {\n",
       "        text-align: right;\n",
       "    }\n",
       "</style>\n",
       "<table border=\"1\" class=\"dataframe\">\n",
       "  <thead>\n",
       "    <tr style=\"text-align: right;\">\n",
       "      <th></th>\n",
       "      <th>extruder_size</th>\n",
       "      <th>metering_depth</th>\n",
       "      <th>polymer_density</th>\n",
       "      <th>rpm</th>\n",
       "      <th>screw_pitch</th>\n",
       "      <th>flight_width</th>\n",
       "      <th>number_flight</th>\n",
       "    </tr>\n",
       "  </thead>\n",
       "  <tbody>\n",
       "    <tr>\n",
       "      <th>0</th>\n",
       "      <td>20</td>\n",
       "      <td>0.4</td>\n",
       "      <td>800</td>\n",
       "      <td>0</td>\n",
       "      <td>12.0</td>\n",
       "      <td>1.2</td>\n",
       "      <td>1</td>\n",
       "    </tr>\n",
       "    <tr>\n",
       "      <th>1</th>\n",
       "      <td>20</td>\n",
       "      <td>0.4</td>\n",
       "      <td>800</td>\n",
       "      <td>10</td>\n",
       "      <td>12.0</td>\n",
       "      <td>1.2</td>\n",
       "      <td>1</td>\n",
       "    </tr>\n",
       "    <tr>\n",
       "      <th>2</th>\n",
       "      <td>20</td>\n",
       "      <td>0.4</td>\n",
       "      <td>800</td>\n",
       "      <td>20</td>\n",
       "      <td>12.0</td>\n",
       "      <td>1.2</td>\n",
       "      <td>1</td>\n",
       "    </tr>\n",
       "    <tr>\n",
       "      <th>3</th>\n",
       "      <td>20</td>\n",
       "      <td>0.4</td>\n",
       "      <td>800</td>\n",
       "      <td>30</td>\n",
       "      <td>12.0</td>\n",
       "      <td>1.2</td>\n",
       "      <td>1</td>\n",
       "    </tr>\n",
       "    <tr>\n",
       "      <th>4</th>\n",
       "      <td>20</td>\n",
       "      <td>0.4</td>\n",
       "      <td>800</td>\n",
       "      <td>40</td>\n",
       "      <td>12.0</td>\n",
       "      <td>1.2</td>\n",
       "      <td>1</td>\n",
       "    </tr>\n",
       "  </tbody>\n",
       "</table>\n",
       "</div>"
      ],
      "text/plain": [
       "   extruder_size  metering_depth  polymer_density  rpm  screw_pitch  \\\n",
       "0             20             0.4              800    0         12.0   \n",
       "1             20             0.4              800   10         12.0   \n",
       "2             20             0.4              800   20         12.0   \n",
       "3             20             0.4              800   30         12.0   \n",
       "4             20             0.4              800   40         12.0   \n",
       "\n",
       "   flight_width  number_flight  \n",
       "0           1.2              1  \n",
       "1           1.2              1  \n",
       "2           1.2              1  \n",
       "3           1.2              1  \n",
       "4           1.2              1  "
      ]
     },
     "execution_count": 12,
     "metadata": {},
     "output_type": "execute_result"
    }
   ],
   "source": [
    "new_col_order = [\n",
    "    \"extruder_size\",\n",
    "    \"metering_depth\",\n",
    "    \"polymer_density\",\n",
    "    \"rpm\",\n",
    "    \"screw_pitch\",\n",
    "    \"flight_width\",\n",
    "    \"number_flight\",\n",
    "]\n",
    "\n",
    "df = df[new_col_order]\n",
    "df.head()"
   ]
  },
  {
   "cell_type": "code",
   "execution_count": 13,
   "id": "d37316d8-1f5e-4fd9-afc7-0e44dbb6d2fb",
   "metadata": {},
   "outputs": [
    {
     "name": "stdout",
     "output_type": "stream",
     "text": [
      "CPU times: total: 8min 37s\n",
      "Wall time: 8min 39s\n"
     ]
    }
   ],
   "source": [
    "%%time\n",
    "\n",
    "df.loc[:, \"throughput\"] = df.apply(\n",
    "    lambda row: throughput_cal(\n",
    "        row[\"extruder_size\"],\n",
    "        row[\"metering_depth\"],\n",
    "        row[\"polymer_density\"],\n",
    "        row[\"rpm\"],\n",
    "        row[\"screw_pitch\"],\n",
    "        row[\"flight_width\"],\n",
    "        int(row[\"number_flight\"]),\n",
    "    )*random.uniform(0.95, 1.05),  # +/- 5% randomness was added to the calculated throughput\n",
    "    axis=1,\n",
    ")"
   ]
  },
  {
   "cell_type": "code",
   "execution_count": 14,
   "id": "70633ef3-6331-4556-a911-7ade4e4260f4",
   "metadata": {},
   "outputs": [
    {
     "data": {
      "text/html": [
       "<div>\n",
       "<style scoped>\n",
       "    .dataframe tbody tr th:only-of-type {\n",
       "        vertical-align: middle;\n",
       "    }\n",
       "\n",
       "    .dataframe tbody tr th {\n",
       "        vertical-align: top;\n",
       "    }\n",
       "\n",
       "    .dataframe thead th {\n",
       "        text-align: right;\n",
       "    }\n",
       "</style>\n",
       "<table border=\"1\" class=\"dataframe\">\n",
       "  <thead>\n",
       "    <tr style=\"text-align: right;\">\n",
       "      <th></th>\n",
       "      <th>extruder_size</th>\n",
       "      <th>metering_depth</th>\n",
       "      <th>polymer_density</th>\n",
       "      <th>rpm</th>\n",
       "      <th>screw_pitch</th>\n",
       "      <th>flight_width</th>\n",
       "      <th>number_flight</th>\n",
       "      <th>throughput</th>\n",
       "    </tr>\n",
       "  </thead>\n",
       "  <tbody>\n",
       "    <tr>\n",
       "      <th>0</th>\n",
       "      <td>20</td>\n",
       "      <td>0.4</td>\n",
       "      <td>800</td>\n",
       "      <td>0</td>\n",
       "      <td>12.0</td>\n",
       "      <td>1.2</td>\n",
       "      <td>1</td>\n",
       "      <td>0.000000</td>\n",
       "    </tr>\n",
       "    <tr>\n",
       "      <th>1</th>\n",
       "      <td>20</td>\n",
       "      <td>0.4</td>\n",
       "      <td>800</td>\n",
       "      <td>10</td>\n",
       "      <td>12.0</td>\n",
       "      <td>1.2</td>\n",
       "      <td>1</td>\n",
       "      <td>0.061548</td>\n",
       "    </tr>\n",
       "    <tr>\n",
       "      <th>2</th>\n",
       "      <td>20</td>\n",
       "      <td>0.4</td>\n",
       "      <td>800</td>\n",
       "      <td>20</td>\n",
       "      <td>12.0</td>\n",
       "      <td>1.2</td>\n",
       "      <td>1</td>\n",
       "      <td>0.119047</td>\n",
       "    </tr>\n",
       "    <tr>\n",
       "      <th>3</th>\n",
       "      <td>20</td>\n",
       "      <td>0.4</td>\n",
       "      <td>800</td>\n",
       "      <td>30</td>\n",
       "      <td>12.0</td>\n",
       "      <td>1.2</td>\n",
       "      <td>1</td>\n",
       "      <td>0.175661</td>\n",
       "    </tr>\n",
       "    <tr>\n",
       "      <th>4</th>\n",
       "      <td>20</td>\n",
       "      <td>0.4</td>\n",
       "      <td>800</td>\n",
       "      <td>40</td>\n",
       "      <td>12.0</td>\n",
       "      <td>1.2</td>\n",
       "      <td>1</td>\n",
       "      <td>0.240271</td>\n",
       "    </tr>\n",
       "    <tr>\n",
       "      <th>...</th>\n",
       "      <td>...</td>\n",
       "      <td>...</td>\n",
       "      <td>...</td>\n",
       "      <td>...</td>\n",
       "      <td>...</td>\n",
       "      <td>...</td>\n",
       "      <td>...</td>\n",
       "      <td>...</td>\n",
       "    </tr>\n",
       "    <tr>\n",
       "      <th>1505275</th>\n",
       "      <td>250</td>\n",
       "      <td>22.5</td>\n",
       "      <td>1400</td>\n",
       "      <td>50</td>\n",
       "      <td>450.0</td>\n",
       "      <td>50.0</td>\n",
       "      <td>2</td>\n",
       "      <td>8158.828134</td>\n",
       "    </tr>\n",
       "    <tr>\n",
       "      <th>1505276</th>\n",
       "      <td>250</td>\n",
       "      <td>22.5</td>\n",
       "      <td>1400</td>\n",
       "      <td>60</td>\n",
       "      <td>450.0</td>\n",
       "      <td>50.0</td>\n",
       "      <td>2</td>\n",
       "      <td>9848.224301</td>\n",
       "    </tr>\n",
       "    <tr>\n",
       "      <th>1505277</th>\n",
       "      <td>250</td>\n",
       "      <td>22.5</td>\n",
       "      <td>1400</td>\n",
       "      <td>70</td>\n",
       "      <td>450.0</td>\n",
       "      <td>50.0</td>\n",
       "      <td>2</td>\n",
       "      <td>11321.480080</td>\n",
       "    </tr>\n",
       "    <tr>\n",
       "      <th>1505278</th>\n",
       "      <td>250</td>\n",
       "      <td>22.5</td>\n",
       "      <td>1400</td>\n",
       "      <td>80</td>\n",
       "      <td>450.0</td>\n",
       "      <td>50.0</td>\n",
       "      <td>2</td>\n",
       "      <td>13706.920109</td>\n",
       "    </tr>\n",
       "    <tr>\n",
       "      <th>1505279</th>\n",
       "      <td>250</td>\n",
       "      <td>22.5</td>\n",
       "      <td>1400</td>\n",
       "      <td>90</td>\n",
       "      <td>450.0</td>\n",
       "      <td>50.0</td>\n",
       "      <td>2</td>\n",
       "      <td>14710.014762</td>\n",
       "    </tr>\n",
       "  </tbody>\n",
       "</table>\n",
       "<p>1505280 rows × 8 columns</p>\n",
       "</div>"
      ],
      "text/plain": [
       "         extruder_size  metering_depth  polymer_density  rpm  screw_pitch  \\\n",
       "0                   20             0.4              800    0         12.0   \n",
       "1                   20             0.4              800   10         12.0   \n",
       "2                   20             0.4              800   20         12.0   \n",
       "3                   20             0.4              800   30         12.0   \n",
       "4                   20             0.4              800   40         12.0   \n",
       "...                ...             ...              ...  ...          ...   \n",
       "1505275            250            22.5             1400   50        450.0   \n",
       "1505276            250            22.5             1400   60        450.0   \n",
       "1505277            250            22.5             1400   70        450.0   \n",
       "1505278            250            22.5             1400   80        450.0   \n",
       "1505279            250            22.5             1400   90        450.0   \n",
       "\n",
       "         flight_width  number_flight    throughput  \n",
       "0                 1.2              1      0.000000  \n",
       "1                 1.2              1      0.061548  \n",
       "2                 1.2              1      0.119047  \n",
       "3                 1.2              1      0.175661  \n",
       "4                 1.2              1      0.240271  \n",
       "...               ...            ...           ...  \n",
       "1505275          50.0              2   8158.828134  \n",
       "1505276          50.0              2   9848.224301  \n",
       "1505277          50.0              2  11321.480080  \n",
       "1505278          50.0              2  13706.920109  \n",
       "1505279          50.0              2  14710.014762  \n",
       "\n",
       "[1505280 rows x 8 columns]"
      ]
     },
     "execution_count": 14,
     "metadata": {},
     "output_type": "execute_result"
    }
   ],
   "source": [
    "df"
   ]
  },
  {
   "cell_type": "code",
   "execution_count": 15,
   "id": "05b1a598-dc61-4e3f-a6e7-624e705b902c",
   "metadata": {},
   "outputs": [],
   "source": [
    "df = shuffle(df)"
   ]
  },
  {
   "cell_type": "code",
   "execution_count": 16,
   "id": "c29a164e-54ce-41df-b1da-f382898296c4",
   "metadata": {},
   "outputs": [
    {
     "data": {
      "text/html": [
       "<div>\n",
       "<style scoped>\n",
       "    .dataframe tbody tr th:only-of-type {\n",
       "        vertical-align: middle;\n",
       "    }\n",
       "\n",
       "    .dataframe tbody tr th {\n",
       "        vertical-align: top;\n",
       "    }\n",
       "\n",
       "    .dataframe thead th {\n",
       "        text-align: right;\n",
       "    }\n",
       "</style>\n",
       "<table border=\"1\" class=\"dataframe\">\n",
       "  <thead>\n",
       "    <tr style=\"text-align: right;\">\n",
       "      <th></th>\n",
       "      <th>extruder_size</th>\n",
       "      <th>metering_depth</th>\n",
       "      <th>polymer_density</th>\n",
       "      <th>rpm</th>\n",
       "      <th>screw_pitch</th>\n",
       "      <th>flight_width</th>\n",
       "      <th>number_flight</th>\n",
       "      <th>throughput</th>\n",
       "    </tr>\n",
       "  </thead>\n",
       "  <tbody>\n",
       "    <tr>\n",
       "      <th>176767</th>\n",
       "      <td>40</td>\n",
       "      <td>3.2</td>\n",
       "      <td>1100</td>\n",
       "      <td>70</td>\n",
       "      <td>64.0</td>\n",
       "      <td>7.2</td>\n",
       "      <td>1</td>\n",
       "      <td>39.648956</td>\n",
       "    </tr>\n",
       "    <tr>\n",
       "      <th>1473698</th>\n",
       "      <td>250</td>\n",
       "      <td>12.5</td>\n",
       "      <td>1400</td>\n",
       "      <td>80</td>\n",
       "      <td>400.0</td>\n",
       "      <td>35.0</td>\n",
       "      <td>2</td>\n",
       "      <td>7710.474531</td>\n",
       "    </tr>\n",
       "    <tr>\n",
       "      <th>252614</th>\n",
       "      <td>60</td>\n",
       "      <td>1.2</td>\n",
       "      <td>900</td>\n",
       "      <td>40</td>\n",
       "      <td>72.0</td>\n",
       "      <td>10.8</td>\n",
       "      <td>2</td>\n",
       "      <td>9.871525</td>\n",
       "    </tr>\n",
       "    <tr>\n",
       "      <th>537575</th>\n",
       "      <td>100</td>\n",
       "      <td>6.0</td>\n",
       "      <td>1100</td>\n",
       "      <td>50</td>\n",
       "      <td>180.0</td>\n",
       "      <td>18.0</td>\n",
       "      <td>2</td>\n",
       "      <td>308.711894</td>\n",
       "    </tr>\n",
       "    <tr>\n",
       "      <th>161792</th>\n",
       "      <td>40</td>\n",
       "      <td>2.4</td>\n",
       "      <td>1200</td>\n",
       "      <td>20</td>\n",
       "      <td>48.0</td>\n",
       "      <td>3.2</td>\n",
       "      <td>2</td>\n",
       "      <td>6.880714</td>\n",
       "    </tr>\n",
       "    <tr>\n",
       "      <th>...</th>\n",
       "      <td>...</td>\n",
       "      <td>...</td>\n",
       "      <td>...</td>\n",
       "      <td>...</td>\n",
       "      <td>...</td>\n",
       "      <td>...</td>\n",
       "      <td>...</td>\n",
       "      <td>...</td>\n",
       "    </tr>\n",
       "    <tr>\n",
       "      <th>1489182</th>\n",
       "      <td>250</td>\n",
       "      <td>17.5</td>\n",
       "      <td>1400</td>\n",
       "      <td>20</td>\n",
       "      <td>350.0</td>\n",
       "      <td>30.0</td>\n",
       "      <td>1</td>\n",
       "      <td>2776.196206</td>\n",
       "    </tr>\n",
       "    <tr>\n",
       "      <th>1351850</th>\n",
       "      <td>230</td>\n",
       "      <td>13.8</td>\n",
       "      <td>1100</td>\n",
       "      <td>0</td>\n",
       "      <td>138.0</td>\n",
       "      <td>13.8</td>\n",
       "      <td>2</td>\n",
       "      <td>0.000000</td>\n",
       "    </tr>\n",
       "    <tr>\n",
       "      <th>1276452</th>\n",
       "      <td>220</td>\n",
       "      <td>8.8</td>\n",
       "      <td>1300</td>\n",
       "      <td>20</td>\n",
       "      <td>308.0</td>\n",
       "      <td>39.6</td>\n",
       "      <td>2</td>\n",
       "      <td>863.676713</td>\n",
       "    </tr>\n",
       "    <tr>\n",
       "      <th>532094</th>\n",
       "      <td>100</td>\n",
       "      <td>5.0</td>\n",
       "      <td>1400</td>\n",
       "      <td>40</td>\n",
       "      <td>60.0</td>\n",
       "      <td>14.0</td>\n",
       "      <td>2</td>\n",
       "      <td>68.228337</td>\n",
       "    </tr>\n",
       "    <tr>\n",
       "      <th>1240107</th>\n",
       "      <td>210</td>\n",
       "      <td>16.8</td>\n",
       "      <td>900</td>\n",
       "      <td>70</td>\n",
       "      <td>168.0</td>\n",
       "      <td>33.6</td>\n",
       "      <td>1</td>\n",
       "      <td>2407.027808</td>\n",
       "    </tr>\n",
       "  </tbody>\n",
       "</table>\n",
       "<p>1505280 rows × 8 columns</p>\n",
       "</div>"
      ],
      "text/plain": [
       "         extruder_size  metering_depth  polymer_density  rpm  screw_pitch  \\\n",
       "176767              40             3.2             1100   70         64.0   \n",
       "1473698            250            12.5             1400   80        400.0   \n",
       "252614              60             1.2              900   40         72.0   \n",
       "537575             100             6.0             1100   50        180.0   \n",
       "161792              40             2.4             1200   20         48.0   \n",
       "...                ...             ...              ...  ...          ...   \n",
       "1489182            250            17.5             1400   20        350.0   \n",
       "1351850            230            13.8             1100    0        138.0   \n",
       "1276452            220             8.8             1300   20        308.0   \n",
       "532094             100             5.0             1400   40         60.0   \n",
       "1240107            210            16.8              900   70        168.0   \n",
       "\n",
       "         flight_width  number_flight   throughput  \n",
       "176767            7.2              1    39.648956  \n",
       "1473698          35.0              2  7710.474531  \n",
       "252614           10.8              2     9.871525  \n",
       "537575           18.0              2   308.711894  \n",
       "161792            3.2              2     6.880714  \n",
       "...               ...            ...          ...  \n",
       "1489182          30.0              1  2776.196206  \n",
       "1351850          13.8              2     0.000000  \n",
       "1276452          39.6              2   863.676713  \n",
       "532094           14.0              2    68.228337  \n",
       "1240107          33.6              1  2407.027808  \n",
       "\n",
       "[1505280 rows x 8 columns]"
      ]
     },
     "execution_count": 16,
     "metadata": {},
     "output_type": "execute_result"
    }
   ],
   "source": [
    "df"
   ]
  },
  {
   "cell_type": "markdown",
   "id": "b978a3fc-1e0d-4242-9518-8eca224ddc4f",
   "metadata": {},
   "source": [
    "### 3. Save as CSV file"
   ]
  },
  {
   "cell_type": "code",
   "execution_count": 17,
   "id": "e376c9db-4acd-45dd-ba5a-51bee4515e87",
   "metadata": {},
   "outputs": [],
   "source": [
    "df.to_csv(\"../data/dataset_generated_by_extrucal.csv\", index=False)"
   ]
  }
 ],
 "metadata": {
  "kernelspec": {
   "display_name": "Python [conda env:extrucal]",
   "language": "python",
   "name": "conda-env-extrucal-py"
  },
  "language_info": {
   "codemirror_mode": {
    "name": "ipython",
    "version": 3
   },
   "file_extension": ".py",
   "mimetype": "text/x-python",
   "name": "python",
   "nbconvert_exporter": "python",
   "pygments_lexer": "ipython3",
   "version": "3.9.16"
  }
 },
 "nbformat": 4,
 "nbformat_minor": 5
}
