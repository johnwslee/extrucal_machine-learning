{
 "cells": [
  {
   "cell_type": "markdown",
   "id": "aa22d742-65db-4021-9518-ec3ab054b8d5",
   "metadata": {},
   "source": [
    "# Imports"
   ]
  },
  {
   "cell_type": "code",
   "execution_count": 1,
   "id": "d0c7da01-322f-41d1-bf3d-b5a643fcd7df",
   "metadata": {},
   "outputs": [],
   "source": [
    "import sys\n",
    "sys.path.append(\"../src/\")\n",
    "\n",
    "from utils import mean_std_cross_val_scores, mape\n",
    "\n",
    "import random\n",
    "import warnings\n",
    "\n",
    "import matplotlib.pyplot as plt\n",
    "import numpy as np\n",
    "import pandas as pd\n",
    "from catboost import CatBoostClassifier, CatBoostRegressor\n",
    "from lightgbm.sklearn import LGBMClassifier, LGBMRegressor\n",
    "from sklearn import datasets\n",
    "from sklearn.compose import ColumnTransformer, make_column_transformer\n",
    "from sklearn.dummy import DummyClassifier, DummyRegressor\n",
    "from sklearn.ensemble import RandomForestClassifier, RandomForestRegressor\n",
    "from sklearn.feature_extraction.text import CountVectorizer\n",
    "from sklearn.impute import SimpleImputer\n",
    "from sklearn.linear_model import Lasso, LogisticRegression, Ridge\n",
    "from sklearn.metrics import make_scorer, mean_squared_error, r2_score, mean_absolute_error\n",
    "from sklearn.model_selection import (\n",
    "    GridSearchCV,\n",
    "    RandomizedSearchCV,\n",
    "    cross_val_score,\n",
    "    cross_validate,\n",
    "    train_test_split,\n",
    ")\n",
    "from sklearn.naive_bayes import MultinomialNB\n",
    "from sklearn.pipeline import Pipeline, make_pipeline\n",
    "from sklearn.preprocessing import OneHotEncoder, OrdinalEncoder, StandardScaler, FunctionTransformer\n",
    "from sklearn.svm import SVC, SVR\n",
    "from sklearn.tree import DecisionTreeClassifier, DecisionTreeRegressor\n",
    "from sklearn.utils import shuffle\n",
    "from tqdm import tqdm\n",
    "from xgboost import XGBClassifier, XGBRegressor\n",
    "\n",
    "random.seed(0)"
   ]
  },
  {
   "cell_type": "markdown",
   "id": "20a3bbd8-2c04-454b-84db-87f2ce93eebe",
   "metadata": {},
   "source": [
    "# Dataset Read In"
   ]
  },
  {
   "cell_type": "code",
   "execution_count": 2,
   "id": "98598566-aab8-4d29-aeb9-642d95a1d897",
   "metadata": {},
   "outputs": [
    {
     "data": {
      "text/html": [
       "<div>\n",
       "<style scoped>\n",
       "    .dataframe tbody tr th:only-of-type {\n",
       "        vertical-align: middle;\n",
       "    }\n",
       "\n",
       "    .dataframe tbody tr th {\n",
       "        vertical-align: top;\n",
       "    }\n",
       "\n",
       "    .dataframe thead th {\n",
       "        text-align: right;\n",
       "    }\n",
       "</style>\n",
       "<table border=\"1\" class=\"dataframe\">\n",
       "  <thead>\n",
       "    <tr style=\"text-align: right;\">\n",
       "      <th></th>\n",
       "      <th>extruder_size</th>\n",
       "      <th>metering_depth</th>\n",
       "      <th>polymer_density</th>\n",
       "      <th>rpm</th>\n",
       "      <th>screw_pitch</th>\n",
       "      <th>flight_width</th>\n",
       "      <th>number_flight</th>\n",
       "      <th>throughput</th>\n",
       "    </tr>\n",
       "  </thead>\n",
       "  <tbody>\n",
       "    <tr>\n",
       "      <th>0</th>\n",
       "      <td>40</td>\n",
       "      <td>3.2</td>\n",
       "      <td>1100</td>\n",
       "      <td>70</td>\n",
       "      <td>64.0</td>\n",
       "      <td>7.2</td>\n",
       "      <td>1</td>\n",
       "      <td>39.648956</td>\n",
       "    </tr>\n",
       "    <tr>\n",
       "      <th>1</th>\n",
       "      <td>250</td>\n",
       "      <td>12.5</td>\n",
       "      <td>1400</td>\n",
       "      <td>80</td>\n",
       "      <td>400.0</td>\n",
       "      <td>35.0</td>\n",
       "      <td>2</td>\n",
       "      <td>7710.474531</td>\n",
       "    </tr>\n",
       "    <tr>\n",
       "      <th>2</th>\n",
       "      <td>60</td>\n",
       "      <td>1.2</td>\n",
       "      <td>900</td>\n",
       "      <td>40</td>\n",
       "      <td>72.0</td>\n",
       "      <td>10.8</td>\n",
       "      <td>2</td>\n",
       "      <td>9.871525</td>\n",
       "    </tr>\n",
       "    <tr>\n",
       "      <th>3</th>\n",
       "      <td>100</td>\n",
       "      <td>6.0</td>\n",
       "      <td>1100</td>\n",
       "      <td>50</td>\n",
       "      <td>180.0</td>\n",
       "      <td>18.0</td>\n",
       "      <td>2</td>\n",
       "      <td>308.711894</td>\n",
       "    </tr>\n",
       "    <tr>\n",
       "      <th>4</th>\n",
       "      <td>40</td>\n",
       "      <td>2.4</td>\n",
       "      <td>1200</td>\n",
       "      <td>20</td>\n",
       "      <td>48.0</td>\n",
       "      <td>3.2</td>\n",
       "      <td>2</td>\n",
       "      <td>6.880714</td>\n",
       "    </tr>\n",
       "    <tr>\n",
       "      <th>...</th>\n",
       "      <td>...</td>\n",
       "      <td>...</td>\n",
       "      <td>...</td>\n",
       "      <td>...</td>\n",
       "      <td>...</td>\n",
       "      <td>...</td>\n",
       "      <td>...</td>\n",
       "      <td>...</td>\n",
       "    </tr>\n",
       "    <tr>\n",
       "      <th>1505275</th>\n",
       "      <td>250</td>\n",
       "      <td>17.5</td>\n",
       "      <td>1400</td>\n",
       "      <td>20</td>\n",
       "      <td>350.0</td>\n",
       "      <td>30.0</td>\n",
       "      <td>1</td>\n",
       "      <td>2776.196206</td>\n",
       "    </tr>\n",
       "    <tr>\n",
       "      <th>1505276</th>\n",
       "      <td>230</td>\n",
       "      <td>13.8</td>\n",
       "      <td>1100</td>\n",
       "      <td>0</td>\n",
       "      <td>138.0</td>\n",
       "      <td>13.8</td>\n",
       "      <td>2</td>\n",
       "      <td>0.000000</td>\n",
       "    </tr>\n",
       "    <tr>\n",
       "      <th>1505277</th>\n",
       "      <td>220</td>\n",
       "      <td>8.8</td>\n",
       "      <td>1300</td>\n",
       "      <td>20</td>\n",
       "      <td>308.0</td>\n",
       "      <td>39.6</td>\n",
       "      <td>2</td>\n",
       "      <td>863.676713</td>\n",
       "    </tr>\n",
       "    <tr>\n",
       "      <th>1505278</th>\n",
       "      <td>100</td>\n",
       "      <td>5.0</td>\n",
       "      <td>1400</td>\n",
       "      <td>40</td>\n",
       "      <td>60.0</td>\n",
       "      <td>14.0</td>\n",
       "      <td>2</td>\n",
       "      <td>68.228337</td>\n",
       "    </tr>\n",
       "    <tr>\n",
       "      <th>1505279</th>\n",
       "      <td>210</td>\n",
       "      <td>16.8</td>\n",
       "      <td>900</td>\n",
       "      <td>70</td>\n",
       "      <td>168.0</td>\n",
       "      <td>33.6</td>\n",
       "      <td>1</td>\n",
       "      <td>2407.027808</td>\n",
       "    </tr>\n",
       "  </tbody>\n",
       "</table>\n",
       "<p>1505280 rows × 8 columns</p>\n",
       "</div>"
      ],
      "text/plain": [
       "         extruder_size  metering_depth  polymer_density  rpm  screw_pitch  \\\n",
       "0                   40             3.2             1100   70         64.0   \n",
       "1                  250            12.5             1400   80        400.0   \n",
       "2                   60             1.2              900   40         72.0   \n",
       "3                  100             6.0             1100   50        180.0   \n",
       "4                   40             2.4             1200   20         48.0   \n",
       "...                ...             ...              ...  ...          ...   \n",
       "1505275            250            17.5             1400   20        350.0   \n",
       "1505276            230            13.8             1100    0        138.0   \n",
       "1505277            220             8.8             1300   20        308.0   \n",
       "1505278            100             5.0             1400   40         60.0   \n",
       "1505279            210            16.8              900   70        168.0   \n",
       "\n",
       "         flight_width  number_flight   throughput  \n",
       "0                 7.2              1    39.648956  \n",
       "1                35.0              2  7710.474531  \n",
       "2                10.8              2     9.871525  \n",
       "3                18.0              2   308.711894  \n",
       "4                 3.2              2     6.880714  \n",
       "...               ...            ...          ...  \n",
       "1505275          30.0              1  2776.196206  \n",
       "1505276          13.8              2     0.000000  \n",
       "1505277          39.6              2   863.676713  \n",
       "1505278          14.0              2    68.228337  \n",
       "1505279          33.6              1  2407.027808  \n",
       "\n",
       "[1505280 rows x 8 columns]"
      ]
     },
     "execution_count": 2,
     "metadata": {},
     "output_type": "execute_result"
    }
   ],
   "source": [
    "df = pd.read_csv(\"../data/dataset_generated_by_extrucal.csv\")\n",
    "df"
   ]
  },
  {
   "cell_type": "code",
   "execution_count": 3,
   "id": "874359d9-eff1-4013-bd86-b4b5ef3f76e2",
   "metadata": {},
   "outputs": [],
   "source": [
    "# Apply log-transformation to target\n",
    "df[\"log_throughput\"] = np.log1p(df[\"throughput\"])"
   ]
  },
  {
   "cell_type": "markdown",
   "id": "0bb0e741-2ca3-4923-87a2-c702fb85e044",
   "metadata": {},
   "source": [
    "# Train/Test Split"
   ]
  },
  {
   "cell_type": "code",
   "execution_count": 4,
   "id": "61913909-2206-4bc8-93cc-1a4142954db2",
   "metadata": {},
   "outputs": [
    {
     "data": {
      "text/html": [
       "<div>\n",
       "<style scoped>\n",
       "    .dataframe tbody tr th:only-of-type {\n",
       "        vertical-align: middle;\n",
       "    }\n",
       "\n",
       "    .dataframe tbody tr th {\n",
       "        vertical-align: top;\n",
       "    }\n",
       "\n",
       "    .dataframe thead th {\n",
       "        text-align: right;\n",
       "    }\n",
       "</style>\n",
       "<table border=\"1\" class=\"dataframe\">\n",
       "  <thead>\n",
       "    <tr style=\"text-align: right;\">\n",
       "      <th></th>\n",
       "      <th>extruder_size</th>\n",
       "      <th>metering_depth</th>\n",
       "      <th>polymer_density</th>\n",
       "      <th>rpm</th>\n",
       "      <th>screw_pitch</th>\n",
       "      <th>flight_width</th>\n",
       "      <th>number_flight</th>\n",
       "      <th>throughput</th>\n",
       "      <th>log_throughput</th>\n",
       "    </tr>\n",
       "  </thead>\n",
       "  <tbody>\n",
       "    <tr>\n",
       "      <th>740665</th>\n",
       "      <td>210</td>\n",
       "      <td>6.3</td>\n",
       "      <td>1300</td>\n",
       "      <td>60</td>\n",
       "      <td>252.0</td>\n",
       "      <td>29.4</td>\n",
       "      <td>2</td>\n",
       "      <td>1504.262985</td>\n",
       "      <td>7.316723</td>\n",
       "    </tr>\n",
       "    <tr>\n",
       "      <th>164740</th>\n",
       "      <td>180</td>\n",
       "      <td>16.2</td>\n",
       "      <td>1000</td>\n",
       "      <td>60</td>\n",
       "      <td>180.0</td>\n",
       "      <td>10.8</td>\n",
       "      <td>2</td>\n",
       "      <td>2094.131085</td>\n",
       "      <td>7.647371</td>\n",
       "    </tr>\n",
       "    <tr>\n",
       "      <th>250675</th>\n",
       "      <td>180</td>\n",
       "      <td>10.8</td>\n",
       "      <td>1200</td>\n",
       "      <td>50</td>\n",
       "      <td>216.0</td>\n",
       "      <td>28.8</td>\n",
       "      <td>1</td>\n",
       "      <td>1737.913645</td>\n",
       "      <td>7.461016</td>\n",
       "    </tr>\n",
       "    <tr>\n",
       "      <th>1371460</th>\n",
       "      <td>220</td>\n",
       "      <td>11.0</td>\n",
       "      <td>1100</td>\n",
       "      <td>60</td>\n",
       "      <td>396.0</td>\n",
       "      <td>44.0</td>\n",
       "      <td>1</td>\n",
       "      <td>3733.419435</td>\n",
       "      <td>8.225348</td>\n",
       "    </tr>\n",
       "    <tr>\n",
       "      <th>1356849</th>\n",
       "      <td>170</td>\n",
       "      <td>15.3</td>\n",
       "      <td>1100</td>\n",
       "      <td>40</td>\n",
       "      <td>306.0</td>\n",
       "      <td>27.2</td>\n",
       "      <td>1</td>\n",
       "      <td>2122.786335</td>\n",
       "      <td>7.660956</td>\n",
       "    </tr>\n",
       "  </tbody>\n",
       "</table>\n",
       "</div>"
      ],
      "text/plain": [
       "         extruder_size  metering_depth  polymer_density  rpm  screw_pitch  \\\n",
       "740665             210             6.3             1300   60        252.0   \n",
       "164740             180            16.2             1000   60        180.0   \n",
       "250675             180            10.8             1200   50        216.0   \n",
       "1371460            220            11.0             1100   60        396.0   \n",
       "1356849            170            15.3             1100   40        306.0   \n",
       "\n",
       "         flight_width  number_flight   throughput  log_throughput  \n",
       "740665           29.4              2  1504.262985        7.316723  \n",
       "164740           10.8              2  2094.131085        7.647371  \n",
       "250675           28.8              1  1737.913645        7.461016  \n",
       "1371460          44.0              1  3733.419435        8.225348  \n",
       "1356849          27.2              1  2122.786335        7.660956  "
      ]
     },
     "execution_count": 4,
     "metadata": {},
     "output_type": "execute_result"
    }
   ],
   "source": [
    "train_df, test_df = train_test_split(df, test_size=0.2, random_state=123)\n",
    "train_df.head()"
   ]
  },
  {
   "cell_type": "code",
   "execution_count": 5,
   "id": "f30f7fbd-2885-4940-af64-3d328bc498f4",
   "metadata": {},
   "outputs": [
    {
     "name": "stdout",
     "output_type": "stream",
     "text": [
      "<class 'pandas.core.frame.DataFrame'>\n",
      "Int64Index: 1204224 entries, 740665 to 773630\n",
      "Data columns (total 9 columns):\n",
      " #   Column           Non-Null Count    Dtype  \n",
      "---  ------           --------------    -----  \n",
      " 0   extruder_size    1204224 non-null  int64  \n",
      " 1   metering_depth   1204224 non-null  float64\n",
      " 2   polymer_density  1204224 non-null  int64  \n",
      " 3   rpm              1204224 non-null  int64  \n",
      " 4   screw_pitch      1204224 non-null  float64\n",
      " 5   flight_width     1204224 non-null  float64\n",
      " 6   number_flight    1204224 non-null  int64  \n",
      " 7   throughput       1204224 non-null  float64\n",
      " 8   log_throughput   1204224 non-null  float64\n",
      "dtypes: float64(5), int64(4)\n",
      "memory usage: 91.9 MB\n"
     ]
    }
   ],
   "source": [
    "train_df.info()"
   ]
  },
  {
   "cell_type": "code",
   "execution_count": 6,
   "id": "6bd045ad-66b1-4e67-879f-875078609eb4",
   "metadata": {},
   "outputs": [],
   "source": [
    "X_train = train_df.drop(columns=[\"throughput\", \"log_throughput\"])\n",
    "y_train = train_df[\"log_throughput\"]\n",
    "\n",
    "X_test = test_df.drop(columns=[\"throughput\", \"log_throughput\"])\n",
    "y_test = test_df[\"log_throughput\"]"
   ]
  },
  {
   "cell_type": "markdown",
   "id": "5cbf3fef-cbbb-4001-b1bb-7b9923cc4c15",
   "metadata": {},
   "source": [
    "# Preparation of Preprocessors"
   ]
  },
  {
   "cell_type": "code",
   "execution_count": 7,
   "id": "a4229e17-e140-4ef8-b8a2-18f21855fb54",
   "metadata": {},
   "outputs": [],
   "source": [
    "no_log_features = [\"extruder_size\", \"polymer_density\", \"rpm\", \"number_flight\"]\n",
    "log_features = [\"metering_depth\", \"screw_pitch\", \"flight_width\"]"
   ]
  },
  {
   "cell_type": "code",
   "execution_count": 8,
   "id": "8f69bd77-7393-414b-b529-98770227014e",
   "metadata": {},
   "outputs": [],
   "source": [
    "no_log_transformer = make_pipeline(\n",
    "    StandardScaler(),\n",
    ")"
   ]
  },
  {
   "cell_type": "code",
   "execution_count": 9,
   "id": "308f8422-8f18-4396-a47e-0c8e81558d8e",
   "metadata": {},
   "outputs": [],
   "source": [
    "log_transformer = make_pipeline(\n",
    "    FunctionTransformer(np.log1p),\n",
    "    StandardScaler(),\n",
    ")"
   ]
  },
  {
   "cell_type": "code",
   "execution_count": 10,
   "id": "2692b776-4d76-4752-88ba-55b4a582cc97",
   "metadata": {},
   "outputs": [],
   "source": [
    "preprocessor = make_column_transformer(\n",
    "    (no_log_transformer, no_log_features),\n",
    "    (log_transformer, log_features)\n",
    ")"
   ]
  },
  {
   "cell_type": "markdown",
   "id": "b62be802-6d6a-4702-89b6-f5dd13f658e7",
   "metadata": {},
   "source": [
    "# Cross-Validation of ML Models"
   ]
  },
  {
   "cell_type": "code",
   "execution_count": 11,
   "id": "979ec73c-07e3-4bc0-839b-f47186f8414b",
   "metadata": {},
   "outputs": [],
   "source": [
    "results = {}"
   ]
  },
  {
   "cell_type": "code",
   "execution_count": 12,
   "id": "83469f5e-06cc-41b6-a96a-d05c803d2487",
   "metadata": {},
   "outputs": [],
   "source": [
    "mape_scorer = make_scorer(mape, greater_is_better=False)"
   ]
  },
  {
   "cell_type": "markdown",
   "id": "114eb5f4-9813-4122-b3a3-1c22b873bfcc",
   "metadata": {},
   "source": [
    "### 1. Baseline Model"
   ]
  },
  {
   "cell_type": "code",
   "execution_count": 13,
   "id": "43f052dd-0268-4429-9c3f-3dfb2395826e",
   "metadata": {},
   "outputs": [],
   "source": [
    "pipe_dummy = make_pipeline(preprocessor, DummyRegressor())"
   ]
  },
  {
   "cell_type": "code",
   "execution_count": 14,
   "id": "b562bc75-54c7-4e29-b959-878c7b12ebda",
   "metadata": {},
   "outputs": [],
   "source": [
    "results[\"Dummy\"] = mean_std_cross_val_scores(\n",
    "    pipe_dummy, X_train, y_train, return_train_score=True, scoring=\"neg_mean_squared_error\"\n",
    ")"
   ]
  },
  {
   "cell_type": "code",
   "execution_count": 15,
   "id": "9bd710b6-0548-4f2f-9e05-02bfa9578598",
   "metadata": {},
   "outputs": [
    {
     "data": {
      "text/html": [
       "<div>\n",
       "<style scoped>\n",
       "    .dataframe tbody tr th:only-of-type {\n",
       "        vertical-align: middle;\n",
       "    }\n",
       "\n",
       "    .dataframe tbody tr th {\n",
       "        vertical-align: top;\n",
       "    }\n",
       "\n",
       "    .dataframe thead th {\n",
       "        text-align: right;\n",
       "    }\n",
       "</style>\n",
       "<table border=\"1\" class=\"dataframe\">\n",
       "  <thead>\n",
       "    <tr style=\"text-align: right;\">\n",
       "      <th></th>\n",
       "      <th>Dummy</th>\n",
       "    </tr>\n",
       "  </thead>\n",
       "  <tbody>\n",
       "    <tr>\n",
       "      <th>fit_time</th>\n",
       "      <td>0.217 (+/- 0.010)</td>\n",
       "    </tr>\n",
       "    <tr>\n",
       "      <th>score_time</th>\n",
       "      <td>0.030 (+/- 0.004)</td>\n",
       "    </tr>\n",
       "    <tr>\n",
       "      <th>test_score</th>\n",
       "      <td>-6.717 (+/- 0.008)</td>\n",
       "    </tr>\n",
       "    <tr>\n",
       "      <th>train_score</th>\n",
       "      <td>-6.717 (+/- 0.002)</td>\n",
       "    </tr>\n",
       "  </tbody>\n",
       "</table>\n",
       "</div>"
      ],
      "text/plain": [
       "                          Dummy\n",
       "fit_time      0.217 (+/- 0.010)\n",
       "score_time    0.030 (+/- 0.004)\n",
       "test_score   -6.717 (+/- 0.008)\n",
       "train_score  -6.717 (+/- 0.002)"
      ]
     },
     "execution_count": 15,
     "metadata": {},
     "output_type": "execute_result"
    }
   ],
   "source": [
    "pd.DataFrame(results)"
   ]
  },
  {
   "cell_type": "markdown",
   "id": "e3a421de-5239-4e74-b500-7e443aa6c1ca",
   "metadata": {},
   "source": [
    "### 2. ML Models"
   ]
  },
  {
   "cell_type": "code",
   "execution_count": 16,
   "id": "1fea7817-cbe8-45e3-9576-a23f499b4ea7",
   "metadata": {},
   "outputs": [],
   "source": [
    "random_state = 123\n",
    "\n",
    "pipe_ridge = make_pipeline(\n",
    "    preprocessor, Ridge(max_iter=2000, random_state=random_state)\n",
    ")\n",
    "pipe_lasso = make_pipeline(\n",
    "    preprocessor, Lasso(max_iter=2000, random_state=random_state)\n",
    ")\n",
    "pipe_rf = make_pipeline(\n",
    "    preprocessor, RandomForestRegressor(random_state=random_state)\n",
    ")\n",
    "pipe_xgb = make_pipeline(\n",
    "    preprocessor, XGBRegressor(random_state=random_state, verbosity=0)\n",
    ")\n",
    "pipe_lgbm = make_pipeline(preprocessor, LGBMRegressor(random_state=random_state))\n",
    "pipe_catb = make_pipeline(\n",
    "    preprocessor,\n",
    "    CatBoostRegressor(random_state=random_state, verbose=0, loss_function=\"RMSE\"),\n",
    ")"
   ]
  },
  {
   "cell_type": "code",
   "execution_count": 17,
   "id": "08d8cc3c-4ad0-474a-8052-b43302756fc2",
   "metadata": {},
   "outputs": [],
   "source": [
    "models = {\n",
    "    \"ridge\": pipe_ridge,\n",
    "    \"lass\": pipe_lasso,\n",
    "    \"random_forest\": pipe_rf,\n",
    "    \"XGBoost\": pipe_xgb,\n",
    "    \"LightGBM\": pipe_lgbm,\n",
    "    \"CatBoost\": pipe_catb,\n",
    "}"
   ]
  },
  {
   "cell_type": "code",
   "execution_count": 18,
   "id": "bbfb75d6-5499-483d-b20c-e7129023b2f4",
   "metadata": {},
   "outputs": [
    {
     "name": "stderr",
     "output_type": "stream",
     "text": [
      "100%|███████████████████████████████████████████████████████████████████████████████████| 6/6 [32:57<00:00, 329.55s/it]"
     ]
    },
    {
     "name": "stdout",
     "output_type": "stream",
     "text": [
      "CPU times: total: 1h 34min 6s\n",
      "Wall time: 32min 57s\n"
     ]
    },
    {
     "name": "stderr",
     "output_type": "stream",
     "text": [
      "\n"
     ]
    }
   ],
   "source": [
    "%%time\n",
    "\n",
    "for name, model in tqdm(models.items()):\n",
    "    results[name] = mean_std_cross_val_scores(\n",
    "        model, X_train, y_train, return_train_score=True, scoring=\"neg_mean_squared_error\"\n",
    "    )"
   ]
  },
  {
   "cell_type": "code",
   "execution_count": 19,
   "id": "e0c9ebe5-2803-489a-b721-f4e60c96bdd4",
   "metadata": {},
   "outputs": [
    {
     "data": {
      "text/html": [
       "<div>\n",
       "<style scoped>\n",
       "    .dataframe tbody tr th:only-of-type {\n",
       "        vertical-align: middle;\n",
       "    }\n",
       "\n",
       "    .dataframe tbody tr th {\n",
       "        vertical-align: top;\n",
       "    }\n",
       "\n",
       "    .dataframe thead th {\n",
       "        text-align: right;\n",
       "    }\n",
       "</style>\n",
       "<table border=\"1\" class=\"dataframe\">\n",
       "  <thead>\n",
       "    <tr style=\"text-align: right;\">\n",
       "      <th></th>\n",
       "      <th>Dummy</th>\n",
       "      <th>ridge</th>\n",
       "      <th>lass</th>\n",
       "      <th>random_forest</th>\n",
       "      <th>XGBoost</th>\n",
       "      <th>LightGBM</th>\n",
       "      <th>CatBoost</th>\n",
       "    </tr>\n",
       "  </thead>\n",
       "  <tbody>\n",
       "    <tr>\n",
       "      <th>fit_time</th>\n",
       "      <td>0.217 (+/- 0.010)</td>\n",
       "      <td>0.304 (+/- 0.020)</td>\n",
       "      <td>0.510 (+/- 0.010)</td>\n",
       "      <td>255.008 (+/- 1.440)</td>\n",
       "      <td>23.026 (+/- 0.740)</td>\n",
       "      <td>3.256 (+/- 0.195)</td>\n",
       "      <td>59.759 (+/- 0.618)</td>\n",
       "    </tr>\n",
       "    <tr>\n",
       "      <th>score_time</th>\n",
       "      <td>0.030 (+/- 0.004)</td>\n",
       "      <td>0.037 (+/- 0.003)</td>\n",
       "      <td>0.037 (+/- 0.003)</td>\n",
       "      <td>9.883 (+/- 0.262)</td>\n",
       "      <td>0.163 (+/- 0.009)</td>\n",
       "      <td>0.353 (+/- 0.024)</td>\n",
       "      <td>0.106 (+/- 0.009)</td>\n",
       "    </tr>\n",
       "    <tr>\n",
       "      <th>test_score</th>\n",
       "      <td>-6.717 (+/- 0.008)</td>\n",
       "      <td>-1.604 (+/- 0.013)</td>\n",
       "      <td>-3.824 (+/- 0.013)</td>\n",
       "      <td>-0.002 (+/- 0.000)</td>\n",
       "      <td>-0.005 (+/- 0.000)</td>\n",
       "      <td>-0.006 (+/- 0.000)</td>\n",
       "      <td>-0.001 (+/- 0.000)</td>\n",
       "    </tr>\n",
       "    <tr>\n",
       "      <th>train_score</th>\n",
       "      <td>-6.717 (+/- 0.002)</td>\n",
       "      <td>-1.604 (+/- 0.003)</td>\n",
       "      <td>-3.824 (+/- 0.003)</td>\n",
       "      <td>-0.000 (+/- 0.000)</td>\n",
       "      <td>-0.005 (+/- 0.000)</td>\n",
       "      <td>-0.006 (+/- 0.000)</td>\n",
       "      <td>-0.001 (+/- 0.000)</td>\n",
       "    </tr>\n",
       "  </tbody>\n",
       "</table>\n",
       "</div>"
      ],
      "text/plain": [
       "                          Dummy               ridge                lass  \\\n",
       "fit_time      0.217 (+/- 0.010)   0.304 (+/- 0.020)   0.510 (+/- 0.010)   \n",
       "score_time    0.030 (+/- 0.004)   0.037 (+/- 0.003)   0.037 (+/- 0.003)   \n",
       "test_score   -6.717 (+/- 0.008)  -1.604 (+/- 0.013)  -3.824 (+/- 0.013)   \n",
       "train_score  -6.717 (+/- 0.002)  -1.604 (+/- 0.003)  -3.824 (+/- 0.003)   \n",
       "\n",
       "                   random_forest             XGBoost            LightGBM  \\\n",
       "fit_time     255.008 (+/- 1.440)  23.026 (+/- 0.740)   3.256 (+/- 0.195)   \n",
       "score_time     9.883 (+/- 0.262)   0.163 (+/- 0.009)   0.353 (+/- 0.024)   \n",
       "test_score    -0.002 (+/- 0.000)  -0.005 (+/- 0.000)  -0.006 (+/- 0.000)   \n",
       "train_score   -0.000 (+/- 0.000)  -0.005 (+/- 0.000)  -0.006 (+/- 0.000)   \n",
       "\n",
       "                       CatBoost  \n",
       "fit_time     59.759 (+/- 0.618)  \n",
       "score_time    0.106 (+/- 0.009)  \n",
       "test_score   -0.001 (+/- 0.000)  \n",
       "train_score  -0.001 (+/- 0.000)  "
      ]
     },
     "execution_count": 19,
     "metadata": {},
     "output_type": "execute_result"
    }
   ],
   "source": [
    "pd.DataFrame(results)"
   ]
  },
  {
   "cell_type": "markdown",
   "id": "d0beb09a-1f4f-443f-b03f-b239136cdc52",
   "metadata": {},
   "source": [
    "#### `CatBoost` seems to perform best"
   ]
  },
  {
   "cell_type": "markdown",
   "id": "06e8fa2c-ef86-42da-9017-50dfbd68a021",
   "metadata": {},
   "source": [
    "# Evaluation of `CatBoost` Model"
   ]
  },
  {
   "cell_type": "code",
   "execution_count": null,
   "id": "8dac2b9f-0f1e-4187-bb9a-71f972baba30",
   "metadata": {},
   "outputs": [],
   "source": []
  }
 ],
 "metadata": {
  "kernelspec": {
   "display_name": "Python [conda env:suncor]",
   "language": "python",
   "name": "conda-env-suncor-py"
  },
  "language_info": {
   "codemirror_mode": {
    "name": "ipython",
    "version": 3
   },
   "file_extension": ".py",
   "mimetype": "text/x-python",
   "name": "python",
   "nbconvert_exporter": "python",
   "pygments_lexer": "ipython3",
   "version": "3.9.1"
  }
 },
 "nbformat": 4,
 "nbformat_minor": 5
}
