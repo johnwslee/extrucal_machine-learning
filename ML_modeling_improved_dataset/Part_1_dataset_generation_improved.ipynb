{
 "cells": [
  {
   "cell_type": "markdown",
   "id": "aa22d742-65db-4021-9518-ec3ab054b8d5",
   "metadata": {},
   "source": [
    "# Imports"
   ]
  },
  {
   "cell_type": "code",
   "execution_count": 1,
   "id": "d0c7da01-322f-41d1-bf3d-b5a643fcd7df",
   "metadata": {},
   "outputs": [],
   "source": [
    "import pandas as pd\n",
    "import numpy as np\n",
    "import matplotlib.pyplot as plt\n",
    "\n",
    "import random\n",
    "\n",
    "from extrucal.extrusion import throughput_cal\n",
    "\n",
    "random.seed(0)"
   ]
  },
  {
   "cell_type": "markdown",
   "id": "20a3bbd8-2c04-454b-84db-87f2ce93eebe",
   "metadata": {},
   "source": [
    "# Dataset Generation using `extrucal`"
   ]
  },
  {
   "cell_type": "markdown",
   "id": "442a3687-cb36-474f-be59-7d7c0248f1d9",
   "metadata": {},
   "source": [
    "### 1. Preparation of Lists for Arguments"
   ]
  },
  {
   "cell_type": "code",
   "execution_count": 2,
   "id": "6ef5310f-cc3e-4004-b0c7-52a9ece5734e",
   "metadata": {},
   "outputs": [
    {
     "data": {
      "text/plain": [
       "24"
      ]
     },
     "execution_count": 2,
     "metadata": {},
     "output_type": "execute_result"
    }
   ],
   "source": [
    "extruder_size = [size for size in range(20, 251, 10)]\n",
    "extruder_size_df = pd.DataFrame({\"extruder_size\": extruder_size})\n",
    "# random.shuffle(extruder_size)    # shuffle works in place and return None\n",
    "len(extruder_size)"
   ]
  },
  {
   "cell_type": "code",
   "execution_count": 3,
   "id": "9e47c347-8401-4582-9412-01d6b66c971b",
   "metadata": {},
   "outputs": [
    {
     "data": {
      "text/plain": [
       "8"
      ]
     },
     "execution_count": 3,
     "metadata": {},
     "output_type": "execute_result"
    }
   ],
   "source": [
    "metering_depth_percent = [np.round(percent, 2) for percent in np.arange(0.02, 0.1, 0.01)]\n",
    "metering_depth_percent_df = pd.DataFrame({\"metering_depth_percent\": metering_depth_percent})\n",
    "# random.shuffle(metering_depth_percent)\n",
    "len(metering_depth_percent)"
   ]
  },
  {
   "cell_type": "code",
   "execution_count": 4,
   "id": "58bd6ea2-df2f-4061-a411-912e613366ea",
   "metadata": {},
   "outputs": [
    {
     "data": {
      "text/plain": [
       "7"
      ]
     },
     "execution_count": 4,
     "metadata": {},
     "output_type": "execute_result"
    }
   ],
   "source": [
    "polymer_density = [density for density in range(800, 1500, 100)]\n",
    "polymer_density_df = pd.DataFrame({\"polymer_density\": polymer_density})\n",
    "# random.shuffle(polymer_density)\n",
    "len(polymer_density)"
   ]
  },
  {
   "cell_type": "code",
   "execution_count": 5,
   "id": "eae08626-4c22-4375-b8ee-4c8aa5f52f2b",
   "metadata": {},
   "outputs": [
    {
     "data": {
      "text/plain": [
       "7"
      ]
     },
     "execution_count": 5,
     "metadata": {},
     "output_type": "execute_result"
    }
   ],
   "source": [
    "screw_pitch_percent = [np.round(pitch, 2) for pitch in np.arange(0.6, 2, 0.2)]\n",
    "screw_pitch_percent_df = pd.DataFrame({\"screw_pitch_percent\": screw_pitch_percent})\n",
    "# random.shuffle(screw_pitch_percent)\n",
    "len(screw_pitch_percent)"
   ]
  },
  {
   "cell_type": "code",
   "execution_count": 6,
   "id": "5ead3713-3ce2-41dd-9f62-7db3f42aa338",
   "metadata": {},
   "outputs": [
    {
     "data": {
      "text/plain": [
       "8"
      ]
     },
     "execution_count": 6,
     "metadata": {},
     "output_type": "execute_result"
    }
   ],
   "source": [
    "flight_width_percent = [np.round(percent, 2) for percent in np.arange(0.06, 0.2, 0.02)]\n",
    "flight_width_percent_df = pd.DataFrame({\"flight_width_percent\": flight_width_percent})\n",
    "# random.shuffle(flight_width_percent)\n",
    "len(flight_width_percent)"
   ]
  },
  {
   "cell_type": "code",
   "execution_count": 7,
   "id": "a56e9631-9882-4c6d-91e8-6d95ad9a2219",
   "metadata": {},
   "outputs": [
    {
     "data": {
      "text/plain": [
       "2"
      ]
     },
     "execution_count": 7,
     "metadata": {},
     "output_type": "execute_result"
    }
   ],
   "source": [
    "number_flight = [1, 2]\n",
    "number_flight_df = pd.DataFrame({\"number_flight\": number_flight})\n",
    "# random.shuffle(number_flight)\n",
    "len(number_flight)"
   ]
  },
  {
   "cell_type": "code",
   "execution_count": 8,
   "id": "afc5585c-b9b7-43ea-a739-0f81cb6a6d20",
   "metadata": {},
   "outputs": [
    {
     "data": {
      "text/plain": [
       "10"
      ]
     },
     "execution_count": 8,
     "metadata": {},
     "output_type": "execute_result"
    }
   ],
   "source": [
    "rpm = [r for r in range(0, 100, 10)]\n",
    "rpm_df = pd.DataFrame({\"rpm\": rpm})\n",
    "# random.shuffle(rpm)\n",
    "len(rpm)"
   ]
  },
  {
   "cell_type": "markdown",
   "id": "d8d0bd12-242f-45ac-ace8-3a50dd19d1fd",
   "metadata": {},
   "source": [
    "### 2. Preparation of Dataframe"
   ]
  },
  {
   "cell_type": "code",
   "execution_count": 9,
   "id": "8bbf7a67-7f4b-4a1b-9e9b-e7bcf226c98d",
   "metadata": {},
   "outputs": [],
   "source": [
    "df = (extruder_size_df\n",
    "      .join(metering_depth_percent_df, how='cross')\n",
    "      .join(polymer_density_df, how='cross')\n",
    "      .join(screw_pitch_percent_df, how='cross')\n",
    "      .join(flight_width_percent_df, how='cross')\n",
    "      .join(number_flight_df, how='cross')\n",
    "      .join(rpm_df, how='cross'))"
   ]
  },
  {
   "cell_type": "code",
   "execution_count": 10,
   "id": "38313021-8686-4027-b750-dc904686b353",
   "metadata": {},
   "outputs": [
    {
     "data": {
      "text/plain": [
       "1505280"
      ]
     },
     "execution_count": 10,
     "metadata": {},
     "output_type": "execute_result"
    }
   ],
   "source": [
    "len(df)"
   ]
  },
  {
   "cell_type": "code",
   "execution_count": 11,
   "id": "c5f73551-211c-40b7-8eac-701f04360302",
   "metadata": {},
   "outputs": [],
   "source": [
    "df[\"metering_depth\"] = df[\"extruder_size\"] * df[\"metering_depth_percent\"]\n",
    "df[\"screw_pitch\"] = df[\"extruder_size\"] * df[\"screw_pitch_percent\"]\n",
    "df[\"flight_width\"] = df[\"extruder_size\"] * df[\"flight_width_percent\"]"
   ]
  },
  {
   "cell_type": "code",
   "execution_count": 12,
   "id": "b587c524-ef56-43ec-b6b8-bd9d3ffb8e1c",
   "metadata": {},
   "outputs": [
    {
     "data": {
      "text/html": [
       "<div>\n",
       "<style scoped>\n",
       "    .dataframe tbody tr th:only-of-type {\n",
       "        vertical-align: middle;\n",
       "    }\n",
       "\n",
       "    .dataframe tbody tr th {\n",
       "        vertical-align: top;\n",
       "    }\n",
       "\n",
       "    .dataframe thead th {\n",
       "        text-align: right;\n",
       "    }\n",
       "</style>\n",
       "<table border=\"1\" class=\"dataframe\">\n",
       "  <thead>\n",
       "    <tr style=\"text-align: right;\">\n",
       "      <th></th>\n",
       "      <th>extruder_size</th>\n",
       "      <th>metering_depth</th>\n",
       "      <th>polymer_density</th>\n",
       "      <th>rpm</th>\n",
       "      <th>screw_pitch</th>\n",
       "      <th>flight_width</th>\n",
       "      <th>number_flight</th>\n",
       "    </tr>\n",
       "  </thead>\n",
       "  <tbody>\n",
       "    <tr>\n",
       "      <th>0</th>\n",
       "      <td>20</td>\n",
       "      <td>0.4</td>\n",
       "      <td>800</td>\n",
       "      <td>0</td>\n",
       "      <td>12.0</td>\n",
       "      <td>1.2</td>\n",
       "      <td>1</td>\n",
       "    </tr>\n",
       "    <tr>\n",
       "      <th>1</th>\n",
       "      <td>20</td>\n",
       "      <td>0.4</td>\n",
       "      <td>800</td>\n",
       "      <td>10</td>\n",
       "      <td>12.0</td>\n",
       "      <td>1.2</td>\n",
       "      <td>1</td>\n",
       "    </tr>\n",
       "    <tr>\n",
       "      <th>2</th>\n",
       "      <td>20</td>\n",
       "      <td>0.4</td>\n",
       "      <td>800</td>\n",
       "      <td>20</td>\n",
       "      <td>12.0</td>\n",
       "      <td>1.2</td>\n",
       "      <td>1</td>\n",
       "    </tr>\n",
       "    <tr>\n",
       "      <th>3</th>\n",
       "      <td>20</td>\n",
       "      <td>0.4</td>\n",
       "      <td>800</td>\n",
       "      <td>30</td>\n",
       "      <td>12.0</td>\n",
       "      <td>1.2</td>\n",
       "      <td>1</td>\n",
       "    </tr>\n",
       "    <tr>\n",
       "      <th>4</th>\n",
       "      <td>20</td>\n",
       "      <td>0.4</td>\n",
       "      <td>800</td>\n",
       "      <td>40</td>\n",
       "      <td>12.0</td>\n",
       "      <td>1.2</td>\n",
       "      <td>1</td>\n",
       "    </tr>\n",
       "  </tbody>\n",
       "</table>\n",
       "</div>"
      ],
      "text/plain": [
       "   extruder_size  metering_depth  polymer_density  rpm  screw_pitch  \\\n",
       "0             20             0.4              800    0         12.0   \n",
       "1             20             0.4              800   10         12.0   \n",
       "2             20             0.4              800   20         12.0   \n",
       "3             20             0.4              800   30         12.0   \n",
       "4             20             0.4              800   40         12.0   \n",
       "\n",
       "   flight_width  number_flight  \n",
       "0           1.2              1  \n",
       "1           1.2              1  \n",
       "2           1.2              1  \n",
       "3           1.2              1  \n",
       "4           1.2              1  "
      ]
     },
     "execution_count": 12,
     "metadata": {},
     "output_type": "execute_result"
    }
   ],
   "source": [
    "new_col_order = [\n",
    "    \"extruder_size\", \"metering_depth\", \"polymer_density\", \n",
    "    \"rpm\", \"screw_pitch\", \"flight_width\", \"number_flight\", ]\n",
    "\n",
    "df = df[new_col_order]\n",
    "df.head()"
   ]
  },
  {
   "cell_type": "code",
   "execution_count": 13,
   "id": "d37316d8-1f5e-4fd9-afc7-0e44dbb6d2fb",
   "metadata": {},
   "outputs": [
    {
     "name": "stdout",
     "output_type": "stream",
     "text": [
      "CPU times: total: 9min 51s\n",
      "Wall time: 9min 52s\n"
     ]
    }
   ],
   "source": [
    "%%time\n",
    "\n",
    "df.loc[:, \"throughput\"] = df.apply(\n",
    "    lambda row: throughput_cal(\n",
    "        row[\"extruder_size\"],\n",
    "        row[\"metering_depth\"],\n",
    "        row[\"polymer_density\"],\n",
    "        row[\"rpm\"],\n",
    "        row[\"screw_pitch\"],\n",
    "        row[\"flight_width\"],\n",
    "        int(row[\"number_flight\"])), axis=1\n",
    ")"
   ]
  },
  {
   "cell_type": "code",
   "execution_count": 14,
   "id": "70633ef3-6331-4556-a911-7ade4e4260f4",
   "metadata": {},
   "outputs": [
    {
     "data": {
      "text/html": [
       "<div>\n",
       "<style scoped>\n",
       "    .dataframe tbody tr th:only-of-type {\n",
       "        vertical-align: middle;\n",
       "    }\n",
       "\n",
       "    .dataframe tbody tr th {\n",
       "        vertical-align: top;\n",
       "    }\n",
       "\n",
       "    .dataframe thead th {\n",
       "        text-align: right;\n",
       "    }\n",
       "</style>\n",
       "<table border=\"1\" class=\"dataframe\">\n",
       "  <thead>\n",
       "    <tr style=\"text-align: right;\">\n",
       "      <th></th>\n",
       "      <th>extruder_size</th>\n",
       "      <th>metering_depth</th>\n",
       "      <th>polymer_density</th>\n",
       "      <th>rpm</th>\n",
       "      <th>screw_pitch</th>\n",
       "      <th>flight_width</th>\n",
       "      <th>number_flight</th>\n",
       "      <th>throughput</th>\n",
       "    </tr>\n",
       "  </thead>\n",
       "  <tbody>\n",
       "    <tr>\n",
       "      <th>0</th>\n",
       "      <td>20</td>\n",
       "      <td>0.4</td>\n",
       "      <td>800</td>\n",
       "      <td>0</td>\n",
       "      <td>12.0</td>\n",
       "      <td>1.2</td>\n",
       "      <td>1</td>\n",
       "      <td>0.00</td>\n",
       "    </tr>\n",
       "    <tr>\n",
       "      <th>1</th>\n",
       "      <td>20</td>\n",
       "      <td>0.4</td>\n",
       "      <td>800</td>\n",
       "      <td>10</td>\n",
       "      <td>12.0</td>\n",
       "      <td>1.2</td>\n",
       "      <td>1</td>\n",
       "      <td>0.06</td>\n",
       "    </tr>\n",
       "    <tr>\n",
       "      <th>2</th>\n",
       "      <td>20</td>\n",
       "      <td>0.4</td>\n",
       "      <td>800</td>\n",
       "      <td>20</td>\n",
       "      <td>12.0</td>\n",
       "      <td>1.2</td>\n",
       "      <td>1</td>\n",
       "      <td>0.12</td>\n",
       "    </tr>\n",
       "    <tr>\n",
       "      <th>3</th>\n",
       "      <td>20</td>\n",
       "      <td>0.4</td>\n",
       "      <td>800</td>\n",
       "      <td>30</td>\n",
       "      <td>12.0</td>\n",
       "      <td>1.2</td>\n",
       "      <td>1</td>\n",
       "      <td>0.18</td>\n",
       "    </tr>\n",
       "    <tr>\n",
       "      <th>4</th>\n",
       "      <td>20</td>\n",
       "      <td>0.4</td>\n",
       "      <td>800</td>\n",
       "      <td>40</td>\n",
       "      <td>12.0</td>\n",
       "      <td>1.2</td>\n",
       "      <td>1</td>\n",
       "      <td>0.24</td>\n",
       "    </tr>\n",
       "    <tr>\n",
       "      <th>...</th>\n",
       "      <td>...</td>\n",
       "      <td>...</td>\n",
       "      <td>...</td>\n",
       "      <td>...</td>\n",
       "      <td>...</td>\n",
       "      <td>...</td>\n",
       "      <td>...</td>\n",
       "      <td>...</td>\n",
       "    </tr>\n",
       "    <tr>\n",
       "      <th>1505275</th>\n",
       "      <td>250</td>\n",
       "      <td>22.5</td>\n",
       "      <td>1400</td>\n",
       "      <td>50</td>\n",
       "      <td>450.0</td>\n",
       "      <td>50.0</td>\n",
       "      <td>2</td>\n",
       "      <td>8207.87</td>\n",
       "    </tr>\n",
       "    <tr>\n",
       "      <th>1505276</th>\n",
       "      <td>250</td>\n",
       "      <td>22.5</td>\n",
       "      <td>1400</td>\n",
       "      <td>60</td>\n",
       "      <td>450.0</td>\n",
       "      <td>50.0</td>\n",
       "      <td>2</td>\n",
       "      <td>9849.44</td>\n",
       "    </tr>\n",
       "    <tr>\n",
       "      <th>1505277</th>\n",
       "      <td>250</td>\n",
       "      <td>22.5</td>\n",
       "      <td>1400</td>\n",
       "      <td>70</td>\n",
       "      <td>450.0</td>\n",
       "      <td>50.0</td>\n",
       "      <td>2</td>\n",
       "      <td>11491.02</td>\n",
       "    </tr>\n",
       "    <tr>\n",
       "      <th>1505278</th>\n",
       "      <td>250</td>\n",
       "      <td>22.5</td>\n",
       "      <td>1400</td>\n",
       "      <td>80</td>\n",
       "      <td>450.0</td>\n",
       "      <td>50.0</td>\n",
       "      <td>2</td>\n",
       "      <td>13132.59</td>\n",
       "    </tr>\n",
       "    <tr>\n",
       "      <th>1505279</th>\n",
       "      <td>250</td>\n",
       "      <td>22.5</td>\n",
       "      <td>1400</td>\n",
       "      <td>90</td>\n",
       "      <td>450.0</td>\n",
       "      <td>50.0</td>\n",
       "      <td>2</td>\n",
       "      <td>14774.16</td>\n",
       "    </tr>\n",
       "  </tbody>\n",
       "</table>\n",
       "<p>1505280 rows × 8 columns</p>\n",
       "</div>"
      ],
      "text/plain": [
       "         extruder_size  metering_depth  polymer_density  rpm  screw_pitch  \\\n",
       "0                   20             0.4              800    0         12.0   \n",
       "1                   20             0.4              800   10         12.0   \n",
       "2                   20             0.4              800   20         12.0   \n",
       "3                   20             0.4              800   30         12.0   \n",
       "4                   20             0.4              800   40         12.0   \n",
       "...                ...             ...              ...  ...          ...   \n",
       "1505275            250            22.5             1400   50        450.0   \n",
       "1505276            250            22.5             1400   60        450.0   \n",
       "1505277            250            22.5             1400   70        450.0   \n",
       "1505278            250            22.5             1400   80        450.0   \n",
       "1505279            250            22.5             1400   90        450.0   \n",
       "\n",
       "         flight_width  number_flight  throughput  \n",
       "0                 1.2              1        0.00  \n",
       "1                 1.2              1        0.06  \n",
       "2                 1.2              1        0.12  \n",
       "3                 1.2              1        0.18  \n",
       "4                 1.2              1        0.24  \n",
       "...               ...            ...         ...  \n",
       "1505275          50.0              2     8207.87  \n",
       "1505276          50.0              2     9849.44  \n",
       "1505277          50.0              2    11491.02  \n",
       "1505278          50.0              2    13132.59  \n",
       "1505279          50.0              2    14774.16  \n",
       "\n",
       "[1505280 rows x 8 columns]"
      ]
     },
     "execution_count": 14,
     "metadata": {},
     "output_type": "execute_result"
    }
   ],
   "source": [
    "df"
   ]
  },
  {
   "cell_type": "markdown",
   "id": "b978a3fc-1e0d-4242-9518-8eca224ddc4f",
   "metadata": {},
   "source": [
    "### 3. Save as CSV file"
   ]
  },
  {
   "cell_type": "code",
   "execution_count": 15,
   "id": "e376c9db-4acd-45dd-ba5a-51bee4515e87",
   "metadata": {},
   "outputs": [],
   "source": [
    "df.to_csv(\"../data/extrucal_dataset_improved.csv\", index=False)"
   ]
  },
  {
   "cell_type": "code",
   "execution_count": null,
   "id": "64f651d6-14a5-4ad6-9cc1-f9edc510700b",
   "metadata": {},
   "outputs": [],
   "source": []
  }
 ],
 "metadata": {
  "kernelspec": {
   "display_name": "Python [conda env:suncor]",
   "language": "python",
   "name": "conda-env-suncor-py"
  },
  "language_info": {
   "codemirror_mode": {
    "name": "ipython",
    "version": 3
   },
   "file_extension": ".py",
   "mimetype": "text/x-python",
   "name": "python",
   "nbconvert_exporter": "python",
   "pygments_lexer": "ipython3",
   "version": "3.9.1"
  }
 },
 "nbformat": 4,
 "nbformat_minor": 5
}
