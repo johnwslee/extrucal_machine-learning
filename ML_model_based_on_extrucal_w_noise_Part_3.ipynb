{
 "cells": [
  {
   "cell_type": "markdown",
   "id": "aa22d742-65db-4021-9518-ec3ab054b8d5",
   "metadata": {},
   "source": [
    "# Imports"
   ]
  },
  {
   "cell_type": "code",
   "execution_count": 1,
   "id": "d0c7da01-322f-41d1-bf3d-b5a643fcd7df",
   "metadata": {},
   "outputs": [],
   "source": [
    "import pandas as pd\n",
    "import numpy as np\n",
    "import matplotlib.pyplot as plt\n",
    "\n",
    "import random\n",
    "\n",
    "from extrucal.extrusion import throughput_cal\n",
    "\n",
    "from sklearn import datasets\n",
    "from sklearn.compose import ColumnTransformer, make_column_transformer\n",
    "from sklearn.dummy import DummyClassifier, DummyRegressor\n",
    "from sklearn.ensemble import RandomForestClassifier, RandomForestRegressor\n",
    "from sklearn.impute import SimpleImputer\n",
    "from sklearn.linear_model import LogisticRegression, Ridge, Lasso\n",
    "from sklearn.model_selection import (\n",
    "    GridSearchCV,\n",
    "    RandomizedSearchCV,\n",
    "    cross_val_score,\n",
    "    cross_validate,\n",
    "    train_test_split,\n",
    ")\n",
    "from sklearn.metrics import make_scorer, mean_squared_error, r2_score\n",
    "from sklearn.feature_extraction.text import CountVectorizer\n",
    "from sklearn.pipeline import Pipeline, make_pipeline\n",
    "from sklearn.preprocessing import OneHotEncoder, OrdinalEncoder, StandardScaler\n",
    "from sklearn.svm import SVC, SVR\n",
    "from sklearn.tree import DecisionTreeClassifier, DecisionTreeRegressor\n",
    "import warnings\n",
    "\n",
    "from catboost import CatBoostClassifier, CatBoostRegressor\n",
    "from lightgbm.sklearn import LGBMClassifier, LGBMRegressor\n",
    "from xgboost import XGBClassifier, XGBRegressor\n",
    "\n",
    "from sklearn.utils import shuffle\n",
    "\n",
    "from sklearn.naive_bayes import MultinomialNB\n",
    "\n",
    "from tqdm import tqdm\n",
    "\n",
    "random.seed(0)"
   ]
  },
  {
   "cell_type": "markdown",
   "id": "20a3bbd8-2c04-454b-84db-87f2ce93eebe",
   "metadata": {},
   "source": [
    "# Dataset Read In"
   ]
  },
  {
   "cell_type": "code",
   "execution_count": 2,
   "id": "98598566-aab8-4d29-aeb9-642d95a1d897",
   "metadata": {},
   "outputs": [
    {
     "data": {
      "text/html": [
       "<div>\n",
       "<style scoped>\n",
       "    .dataframe tbody tr th:only-of-type {\n",
       "        vertical-align: middle;\n",
       "    }\n",
       "\n",
       "    .dataframe tbody tr th {\n",
       "        vertical-align: top;\n",
       "    }\n",
       "\n",
       "    .dataframe thead th {\n",
       "        text-align: right;\n",
       "    }\n",
       "</style>\n",
       "<table border=\"1\" class=\"dataframe\">\n",
       "  <thead>\n",
       "    <tr style=\"text-align: right;\">\n",
       "      <th></th>\n",
       "      <th>extruder_size</th>\n",
       "      <th>metering_depth</th>\n",
       "      <th>polymer_density</th>\n",
       "      <th>rpm</th>\n",
       "      <th>screw_pitch</th>\n",
       "      <th>flight_width</th>\n",
       "      <th>number_flight</th>\n",
       "      <th>throughput</th>\n",
       "    </tr>\n",
       "  </thead>\n",
       "  <tbody>\n",
       "    <tr>\n",
       "      <th>0</th>\n",
       "      <td>80</td>\n",
       "      <td>7.2</td>\n",
       "      <td>1200</td>\n",
       "      <td>95</td>\n",
       "      <td>48.0</td>\n",
       "      <td>12.0</td>\n",
       "      <td>2</td>\n",
       "      <td>90.381112</td>\n",
       "    </tr>\n",
       "    <tr>\n",
       "      <th>1</th>\n",
       "      <td>220</td>\n",
       "      <td>17.6</td>\n",
       "      <td>1300</td>\n",
       "      <td>75</td>\n",
       "      <td>154.0</td>\n",
       "      <td>13.2</td>\n",
       "      <td>1</td>\n",
       "      <td>4321.460806</td>\n",
       "    </tr>\n",
       "    <tr>\n",
       "      <th>2</th>\n",
       "      <td>190</td>\n",
       "      <td>7.6</td>\n",
       "      <td>1400</td>\n",
       "      <td>95</td>\n",
       "      <td>323.0</td>\n",
       "      <td>36.1</td>\n",
       "      <td>2</td>\n",
       "      <td>3029.120568</td>\n",
       "    </tr>\n",
       "    <tr>\n",
       "      <th>3</th>\n",
       "      <td>190</td>\n",
       "      <td>7.6</td>\n",
       "      <td>800</td>\n",
       "      <td>55</td>\n",
       "      <td>228.0</td>\n",
       "      <td>26.6</td>\n",
       "      <td>1</td>\n",
       "      <td>1005.047866</td>\n",
       "    </tr>\n",
       "    <tr>\n",
       "      <th>4</th>\n",
       "      <td>60</td>\n",
       "      <td>1.8</td>\n",
       "      <td>800</td>\n",
       "      <td>10</td>\n",
       "      <td>48.0</td>\n",
       "      <td>10.8</td>\n",
       "      <td>1</td>\n",
       "      <td>2.794134</td>\n",
       "    </tr>\n",
       "    <tr>\n",
       "      <th>...</th>\n",
       "      <td>...</td>\n",
       "      <td>...</td>\n",
       "      <td>...</td>\n",
       "      <td>...</td>\n",
       "      <td>...</td>\n",
       "      <td>...</td>\n",
       "      <td>...</td>\n",
       "      <td>...</td>\n",
       "    </tr>\n",
       "    <tr>\n",
       "      <th>1935355</th>\n",
       "      <td>40</td>\n",
       "      <td>3.2</td>\n",
       "      <td>1000</td>\n",
       "      <td>30</td>\n",
       "      <td>32.0</td>\n",
       "      <td>4.0</td>\n",
       "      <td>1</td>\n",
       "      <td>9.063403</td>\n",
       "    </tr>\n",
       "    <tr>\n",
       "      <th>1935356</th>\n",
       "      <td>180</td>\n",
       "      <td>3.6</td>\n",
       "      <td>800</td>\n",
       "      <td>85</td>\n",
       "      <td>306.0</td>\n",
       "      <td>27.0</td>\n",
       "      <td>2</td>\n",
       "      <td>774.583875</td>\n",
       "    </tr>\n",
       "    <tr>\n",
       "      <th>1935357</th>\n",
       "      <td>30</td>\n",
       "      <td>1.8</td>\n",
       "      <td>1100</td>\n",
       "      <td>60</td>\n",
       "      <td>30.0</td>\n",
       "      <td>2.7</td>\n",
       "      <td>1</td>\n",
       "      <td>7.609954</td>\n",
       "    </tr>\n",
       "    <tr>\n",
       "      <th>1935358</th>\n",
       "      <td>70</td>\n",
       "      <td>6.3</td>\n",
       "      <td>1000</td>\n",
       "      <td>40</td>\n",
       "      <td>35.0</td>\n",
       "      <td>10.5</td>\n",
       "      <td>2</td>\n",
       "      <td>11.832348</td>\n",
       "    </tr>\n",
       "    <tr>\n",
       "      <th>1935359</th>\n",
       "      <td>180</td>\n",
       "      <td>10.8</td>\n",
       "      <td>1050</td>\n",
       "      <td>45</td>\n",
       "      <td>306.0</td>\n",
       "      <td>30.6</td>\n",
       "      <td>2</td>\n",
       "      <td>1443.230586</td>\n",
       "    </tr>\n",
       "  </tbody>\n",
       "</table>\n",
       "<p>1935360 rows × 8 columns</p>\n",
       "</div>"
      ],
      "text/plain": [
       "         extruder_size  metering_depth  polymer_density  rpm  screw_pitch  \\\n",
       "0                   80             7.2             1200   95         48.0   \n",
       "1                  220            17.6             1300   75        154.0   \n",
       "2                  190             7.6             1400   95        323.0   \n",
       "3                  190             7.6              800   55        228.0   \n",
       "4                   60             1.8              800   10         48.0   \n",
       "...                ...             ...              ...  ...          ...   \n",
       "1935355             40             3.2             1000   30         32.0   \n",
       "1935356            180             3.6              800   85        306.0   \n",
       "1935357             30             1.8             1100   60         30.0   \n",
       "1935358             70             6.3             1000   40         35.0   \n",
       "1935359            180            10.8             1050   45        306.0   \n",
       "\n",
       "         flight_width  number_flight   throughput  \n",
       "0                12.0              2    90.381112  \n",
       "1                13.2              1  4321.460806  \n",
       "2                36.1              2  3029.120568  \n",
       "3                26.6              1  1005.047866  \n",
       "4                10.8              1     2.794134  \n",
       "...               ...            ...          ...  \n",
       "1935355           4.0              1     9.063403  \n",
       "1935356          27.0              2   774.583875  \n",
       "1935357           2.7              1     7.609954  \n",
       "1935358          10.5              2    11.832348  \n",
       "1935359          30.6              2  1443.230586  \n",
       "\n",
       "[1935360 rows x 8 columns]"
      ]
     },
     "execution_count": 2,
     "metadata": {},
     "output_type": "execute_result"
    }
   ],
   "source": [
    "df = pd.read_csv(\"data/extrucal_dataset_w_noise.csv\")\n",
    "df"
   ]
  },
  {
   "cell_type": "markdown",
   "id": "2f20be8b-e48e-4dfa-a705-23d5e20ced2d",
   "metadata": {},
   "source": [
    "# Useful Functions"
   ]
  },
  {
   "cell_type": "code",
   "execution_count": 3,
   "id": "45bd3922-94dc-485f-a819-3dbeac265d9f",
   "metadata": {},
   "outputs": [],
   "source": [
    "def mean_std_cross_val_scores(model, X_train, y_train, **kwargs):\n",
    "    \"\"\"\n",
    "    Returns mean and std of cross validation\n",
    "\n",
    "    Parameters\n",
    "    ----------\n",
    "    model :\n",
    "        scikit-learn model\n",
    "    X_train : numpy array or pandas DataFrame\n",
    "        X in the training data\n",
    "    y_train :\n",
    "        y in the training data\n",
    "\n",
    "    Returns\n",
    "    ----------\n",
    "        pandas Series with mean scores from cross_validation\n",
    "    \"\"\"\n",
    "\n",
    "    scores = cross_validate(model, X_train, y_train, **kwargs)\n",
    "\n",
    "    mean_scores = pd.DataFrame(scores).mean()\n",
    "    std_scores = pd.DataFrame(scores).std()\n",
    "    out_col = []\n",
    "\n",
    "    for i in range(len(mean_scores)):\n",
    "        out_col.append((f\"%0.3f (+/- %0.3f)\" % (mean_scores[i], std_scores[i])))\n",
    "\n",
    "    return pd.Series(data=out_col, index=mean_scores.index)"
   ]
  },
  {
   "cell_type": "code",
   "execution_count": 4,
   "id": "73831c8e-917b-4e36-8192-0b065ddeaea6",
   "metadata": {},
   "outputs": [],
   "source": [
    "def mape(true, pred):\n",
    "    return 100.0 * np.mean(np.abs((pred - true) / (true+0.1)))  # 0.1 was added to prevent division by zero\n",
    "\n",
    "# make a scorer function that we can pass into cross-validation\n",
    "mape_scorer = make_scorer(mape, greater_is_better=False)"
   ]
  },
  {
   "cell_type": "markdown",
   "id": "0bb0e741-2ca3-4923-87a2-c702fb85e044",
   "metadata": {},
   "source": [
    "# Train/Test Split"
   ]
  },
  {
   "cell_type": "code",
   "execution_count": 5,
   "id": "61913909-2206-4bc8-93cc-1a4142954db2",
   "metadata": {},
   "outputs": [
    {
     "data": {
      "text/html": [
       "<div>\n",
       "<style scoped>\n",
       "    .dataframe tbody tr th:only-of-type {\n",
       "        vertical-align: middle;\n",
       "    }\n",
       "\n",
       "    .dataframe tbody tr th {\n",
       "        vertical-align: top;\n",
       "    }\n",
       "\n",
       "    .dataframe thead th {\n",
       "        text-align: right;\n",
       "    }\n",
       "</style>\n",
       "<table border=\"1\" class=\"dataframe\">\n",
       "  <thead>\n",
       "    <tr style=\"text-align: right;\">\n",
       "      <th></th>\n",
       "      <th>extruder_size</th>\n",
       "      <th>metering_depth</th>\n",
       "      <th>polymer_density</th>\n",
       "      <th>rpm</th>\n",
       "      <th>screw_pitch</th>\n",
       "      <th>flight_width</th>\n",
       "      <th>number_flight</th>\n",
       "      <th>throughput</th>\n",
       "    </tr>\n",
       "  </thead>\n",
       "  <tbody>\n",
       "    <tr>\n",
       "      <th>665324</th>\n",
       "      <td>120</td>\n",
       "      <td>9.6</td>\n",
       "      <td>1400</td>\n",
       "      <td>50</td>\n",
       "      <td>72.0</td>\n",
       "      <td>24.0</td>\n",
       "      <td>2</td>\n",
       "      <td>95.663153</td>\n",
       "    </tr>\n",
       "    <tr>\n",
       "      <th>775241</th>\n",
       "      <td>230</td>\n",
       "      <td>9.2</td>\n",
       "      <td>1200</td>\n",
       "      <td>45</td>\n",
       "      <td>161.0</td>\n",
       "      <td>43.7</td>\n",
       "      <td>2</td>\n",
       "      <td>642.441095</td>\n",
       "    </tr>\n",
       "    <tr>\n",
       "      <th>867365</th>\n",
       "      <td>220</td>\n",
       "      <td>11.0</td>\n",
       "      <td>800</td>\n",
       "      <td>90</td>\n",
       "      <td>242.0</td>\n",
       "      <td>13.2</td>\n",
       "      <td>1</td>\n",
       "      <td>3218.343830</td>\n",
       "    </tr>\n",
       "    <tr>\n",
       "      <th>1458314</th>\n",
       "      <td>250</td>\n",
       "      <td>10.0</td>\n",
       "      <td>1150</td>\n",
       "      <td>0</td>\n",
       "      <td>300.0</td>\n",
       "      <td>50.0</td>\n",
       "      <td>2</td>\n",
       "      <td>0.000000</td>\n",
       "    </tr>\n",
       "    <tr>\n",
       "      <th>1097383</th>\n",
       "      <td>70</td>\n",
       "      <td>5.6</td>\n",
       "      <td>800</td>\n",
       "      <td>45</td>\n",
       "      <td>77.0</td>\n",
       "      <td>7.0</td>\n",
       "      <td>2</td>\n",
       "      <td>67.112046</td>\n",
       "    </tr>\n",
       "  </tbody>\n",
       "</table>\n",
       "</div>"
      ],
      "text/plain": [
       "         extruder_size  metering_depth  polymer_density  rpm  screw_pitch  \\\n",
       "665324             120             9.6             1400   50         72.0   \n",
       "775241             230             9.2             1200   45        161.0   \n",
       "867365             220            11.0              800   90        242.0   \n",
       "1458314            250            10.0             1150    0        300.0   \n",
       "1097383             70             5.6              800   45         77.0   \n",
       "\n",
       "         flight_width  number_flight   throughput  \n",
       "665324           24.0              2    95.663153  \n",
       "775241           43.7              2   642.441095  \n",
       "867365           13.2              1  3218.343830  \n",
       "1458314          50.0              2     0.000000  \n",
       "1097383           7.0              2    67.112046  "
      ]
     },
     "execution_count": 5,
     "metadata": {},
     "output_type": "execute_result"
    }
   ],
   "source": [
    "train_df, test_df = train_test_split(df, test_size=0.2, random_state=123)\n",
    "train_df.head()"
   ]
  },
  {
   "cell_type": "code",
   "execution_count": 6,
   "id": "f30f7fbd-2885-4940-af64-3d328bc498f4",
   "metadata": {},
   "outputs": [
    {
     "name": "stdout",
     "output_type": "stream",
     "text": [
      "<class 'pandas.core.frame.DataFrame'>\n",
      "Int64Index: 1548288 entries, 665324 to 773630\n",
      "Data columns (total 8 columns):\n",
      " #   Column           Non-Null Count    Dtype  \n",
      "---  ------           --------------    -----  \n",
      " 0   extruder_size    1548288 non-null  int64  \n",
      " 1   metering_depth   1548288 non-null  float64\n",
      " 2   polymer_density  1548288 non-null  int64  \n",
      " 3   rpm              1548288 non-null  int64  \n",
      " 4   screw_pitch      1548288 non-null  float64\n",
      " 5   flight_width     1548288 non-null  float64\n",
      " 6   number_flight    1548288 non-null  int64  \n",
      " 7   throughput       1548288 non-null  float64\n",
      "dtypes: float64(4), int64(4)\n",
      "memory usage: 106.3 MB\n"
     ]
    }
   ],
   "source": [
    "train_df.info()"
   ]
  },
  {
   "cell_type": "code",
   "execution_count": 7,
   "id": "6bd045ad-66b1-4e67-879f-875078609eb4",
   "metadata": {},
   "outputs": [],
   "source": [
    "X_train = train_df.drop(columns=[\"throughput\"])\n",
    "y_train = train_df[\"throughput\"]\n",
    "\n",
    "X_test = test_df.drop(columns=[\"throughput\"])\n",
    "y_test = test_df[\"throughput\"]"
   ]
  },
  {
   "cell_type": "markdown",
   "id": "b62be802-6d6a-4702-89b6-f5dd13f658e7",
   "metadata": {},
   "source": [
    "# `RandomForestRegressor`"
   ]
  },
  {
   "cell_type": "markdown",
   "id": "114eb5f4-9813-4122-b3a3-1c22b873bfcc",
   "metadata": {},
   "source": [
    "### 1. Training"
   ]
  },
  {
   "cell_type": "code",
   "execution_count": 8,
   "id": "43f052dd-0268-4429-9c3f-3dfb2395826e",
   "metadata": {},
   "outputs": [],
   "source": [
    "random_state = 123\n",
    "\n",
    "pipe_rf = make_pipeline(StandardScaler(), RandomForestRegressor(random_state=random_state))"
   ]
  },
  {
   "cell_type": "code",
   "execution_count": 9,
   "id": "e7991597-6f83-42c2-a0f0-8c8488cd8ba6",
   "metadata": {
    "tags": []
   },
   "outputs": [
    {
     "name": "stdout",
     "output_type": "stream",
     "text": [
      "CPU times: total: 10min 10s\n",
      "Wall time: 10min 9s\n"
     ]
    },
    {
     "data": {
      "text/plain": [
       "Pipeline(steps=[('standardscaler', StandardScaler()),\n",
       "                ('randomforestregressor',\n",
       "                 RandomForestRegressor(random_state=123))])"
      ]
     },
     "execution_count": 9,
     "metadata": {},
     "output_type": "execute_result"
    }
   ],
   "source": [
    "%%time\n",
    "\n",
    "pipe_rf.fit(X_train, y_train)"
   ]
  },
  {
   "cell_type": "markdown",
   "id": "d0417705-9e79-456e-a9b0-bdb0518ce135",
   "metadata": {},
   "source": [
    "### 2. Evaluation"
   ]
  },
  {
   "cell_type": "code",
   "execution_count": 10,
   "id": "5556b8a9-5855-4cb4-97b8-81050ae18102",
   "metadata": {},
   "outputs": [],
   "source": [
    "y_pred = pipe_rf.predict(X_test)"
   ]
  },
  {
   "cell_type": "code",
   "execution_count": 11,
   "id": "81ffef7f-94d9-4e2c-82be-f296c96720f8",
   "metadata": {},
   "outputs": [
    {
     "data": {
      "text/plain": [
       "4.44171820075595"
      ]
     },
     "execution_count": 11,
     "metadata": {},
     "output_type": "execute_result"
    }
   ],
   "source": [
    "mape(y_test, y_pred)"
   ]
  },
  {
   "cell_type": "code",
   "execution_count": 12,
   "id": "5a7067b5-c5a2-4e70-bf77-62aa7bf7e993",
   "metadata": {},
   "outputs": [
    {
     "data": {
      "image/png": "[encoded data removed]",
      "text/plain": [
       "<Figure size 720x720 with 1 Axes>"
      ]
     },
     "metadata": {
      "needs_background": "light"
     },
     "output_type": "display_data"
    }
   ],
   "source": [
    "plt.figure(figsize=(10, 10))\n",
    "plt.scatter(y_test, y_pred)\n",
    "plt.xlabel(\"y_test\")\n",
    "plt.ylabel(\"y_pred\")\n",
    "plt.xlim(0, 20500)\n",
    "plt.ylim(0, 20500)\n",
    "plt.title(\"Comparison of y_test and y_pred\")\n",
    "plt.show();"
   ]
  },
  {
   "cell_type": "markdown",
   "id": "4e9daaef-7608-4f80-a501-79b2b67d4fba",
   "metadata": {},
   "source": [
    "### 3. Comparison with `extrucal` results"
   ]
  },
  {
   "cell_type": "code",
   "execution_count": 13,
   "id": "1eb18831-d2f7-459d-b2ae-504ca8fb67a3",
   "metadata": {},
   "outputs": [],
   "source": [
    "extruder_size = []\n",
    "for i in range(50, 251, 50):\n",
    "    extruder_size.extend([i]*10)\n",
    "\n",
    "metering_depth_percent = [0.05] * 50\n",
    "polymer_density = [1000] * 50\n",
    "screw_pitch_percent = [1] * 50\n",
    "flight_width_percent = [0.1] * 50\n",
    "number_flight = [1] * 50\n",
    "rpm = [r for r in range(0, 91, 10)] * 5"
   ]
  },
  {
   "cell_type": "code",
   "execution_count": 14,
   "id": "7533d516-d9ea-43a9-b3aa-87c96cf041b2",
   "metadata": {},
   "outputs": [
    {
     "data": {
      "text/html": [
       "<div>\n",
       "<style scoped>\n",
       "    .dataframe tbody tr th:only-of-type {\n",
       "        vertical-align: middle;\n",
       "    }\n",
       "\n",
       "    .dataframe tbody tr th {\n",
       "        vertical-align: top;\n",
       "    }\n",
       "\n",
       "    .dataframe thead th {\n",
       "        text-align: right;\n",
       "    }\n",
       "</style>\n",
       "<table border=\"1\" class=\"dataframe\">\n",
       "  <thead>\n",
       "    <tr style=\"text-align: right;\">\n",
       "      <th></th>\n",
       "      <th>extruder_size</th>\n",
       "      <th>metering_depth</th>\n",
       "      <th>polymer_density</th>\n",
       "      <th>rpm</th>\n",
       "      <th>screw_pitch</th>\n",
       "      <th>flight_width</th>\n",
       "      <th>number_flight</th>\n",
       "    </tr>\n",
       "  </thead>\n",
       "  <tbody>\n",
       "    <tr>\n",
       "      <th>0</th>\n",
       "      <td>50</td>\n",
       "      <td>2.5</td>\n",
       "      <td>1000</td>\n",
       "      <td>0</td>\n",
       "      <td>50</td>\n",
       "      <td>5.0</td>\n",
       "      <td>1</td>\n",
       "    </tr>\n",
       "    <tr>\n",
       "      <th>1</th>\n",
       "      <td>50</td>\n",
       "      <td>2.5</td>\n",
       "      <td>1000</td>\n",
       "      <td>10</td>\n",
       "      <td>50</td>\n",
       "      <td>5.0</td>\n",
       "      <td>1</td>\n",
       "    </tr>\n",
       "    <tr>\n",
       "      <th>2</th>\n",
       "      <td>50</td>\n",
       "      <td>2.5</td>\n",
       "      <td>1000</td>\n",
       "      <td>20</td>\n",
       "      <td>50</td>\n",
       "      <td>5.0</td>\n",
       "      <td>1</td>\n",
       "    </tr>\n",
       "    <tr>\n",
       "      <th>3</th>\n",
       "      <td>50</td>\n",
       "      <td>2.5</td>\n",
       "      <td>1000</td>\n",
       "      <td>30</td>\n",
       "      <td>50</td>\n",
       "      <td>5.0</td>\n",
       "      <td>1</td>\n",
       "    </tr>\n",
       "    <tr>\n",
       "      <th>4</th>\n",
       "      <td>50</td>\n",
       "      <td>2.5</td>\n",
       "      <td>1000</td>\n",
       "      <td>40</td>\n",
       "      <td>50</td>\n",
       "      <td>5.0</td>\n",
       "      <td>1</td>\n",
       "    </tr>\n",
       "  </tbody>\n",
       "</table>\n",
       "</div>"
      ],
      "text/plain": [
       "   extruder_size  metering_depth  polymer_density  rpm  screw_pitch  \\\n",
       "0             50             2.5             1000    0           50   \n",
       "1             50             2.5             1000   10           50   \n",
       "2             50             2.5             1000   20           50   \n",
       "3             50             2.5             1000   30           50   \n",
       "4             50             2.5             1000   40           50   \n",
       "\n",
       "   flight_width  number_flight  \n",
       "0           5.0              1  \n",
       "1           5.0              1  \n",
       "2           5.0              1  \n",
       "3           5.0              1  \n",
       "4           5.0              1  "
      ]
     },
     "execution_count": 14,
     "metadata": {},
     "output_type": "execute_result"
    }
   ],
   "source": [
    "df = pd.DataFrame(\n",
    "    {\"extruder_size\": extruder_size,\n",
    "     \"metering_depth_percent\": metering_depth_percent,\n",
    "     \"polymer_density\": polymer_density,\n",
    "     \"screw_pitch_percent\": screw_pitch_percent,\n",
    "     \"flight_width_percent\": flight_width_percent,\n",
    "     \"number_flight\": number_flight,\n",
    "     \"rpm\": rpm}\n",
    ")\n",
    "\n",
    "df[\"metering_depth\"] = df[\"extruder_size\"] * df[\"metering_depth_percent\"]\n",
    "df[\"screw_pitch\"] = df[\"extruder_size\"] * df[\"screw_pitch_percent\"]\n",
    "df[\"flight_width\"] = df[\"extruder_size\"] * df[\"flight_width_percent\"]\n",
    "\n",
    "new_col_order = [\n",
    "    \"extruder_size\", \"metering_depth\", \"polymer_density\", \n",
    "    \"rpm\", \"screw_pitch\", \"flight_width\", \"number_flight\", ]\n",
    "\n",
    "df = df[new_col_order]\n",
    "df.head()"
   ]
  },
  {
   "cell_type": "code",
   "execution_count": 15,
   "id": "4e60babd-79d1-4aba-966a-aba358479b60",
   "metadata": {},
   "outputs": [],
   "source": [
    "df[\"RF_model\"] = pipe_rf.predict(df)"
   ]
  },
  {
   "cell_type": "code",
   "execution_count": 16,
   "id": "1305c11b-4fb6-43a9-a94b-aebed957bb18",
   "metadata": {},
   "outputs": [],
   "source": [
    "df[\"extrucal\"] = df.apply(\n",
    "    lambda row: throughput_cal(\n",
    "        row[\"extruder_size\"],\n",
    "        row[\"metering_depth\"],\n",
    "        row[\"polymer_density\"],\n",
    "        row[\"rpm\"],\n",
    "        row[\"screw_pitch\"],\n",
    "        row[\"flight_width\"],\n",
    "        int(row[\"number_flight\"])), axis=1\n",
    ")"
   ]
  },
  {
   "cell_type": "code",
   "execution_count": 17,
   "id": "d3635d5a-d25a-498a-8f60-29ca8bd251f3",
   "metadata": {},
   "outputs": [
    {
     "data": {
      "image/png": "[encoded data removed]",
      "text/plain": [
       "<Figure size 432x1440 with 5 Axes>"
      ]
     },
     "metadata": {
      "needs_background": "light"
     },
     "output_type": "display_data"
    }
   ],
   "source": [
    "fig, axes = plt.subplots(nrows=5, ncols=1, figsize=(6, 20))\n",
    "\n",
    "fig = df.loc[0:9, [\"rpm\", \"extrucal\", \"RF_model\"]].plot.line(\n",
    "    x=\"rpm\", ax=axes[0], alpha=0.5\n",
    ")\n",
    "fig.set_title(\"50mm Extruder\", loc='left')\n",
    "fig = df.loc[10:19, [\"rpm\", \"extrucal\", \"RF_model\"]].plot.line(\n",
    "    x=\"rpm\", ax=axes[1], alpha=0.5\n",
    ")\n",
    "fig.set_title(\"100mm Extruder\", loc='left')\n",
    "fig = df.loc[20:29, [\"rpm\", \"extrucal\", \"RF_model\"]].plot.line(\n",
    "    x=\"rpm\", ax=axes[2], alpha=0.5\n",
    ")\n",
    "fig.set_title(\"150mm Extruder\", loc='left')\n",
    "fig = df.loc[30:39, [\"rpm\", \"extrucal\", \"RF_model\"]].plot.line(\n",
    "    x=\"rpm\", ax=axes[3], alpha=0.5\n",
    ")\n",
    "fig.set_title(\"200mm Extruder\", loc='left')\n",
    "fig = df.loc[40:, [\"rpm\", \"extrucal\", \"RF_model\"]].plot.line(\n",
    "    x=\"rpm\", ax=axes[4], alpha=0.5\n",
    ")\n",
    "fig.set_title(\"250mm Extruder\", loc='left')\n",
    "plt.show();"
   ]
  },
  {
   "cell_type": "code",
   "execution_count": null,
   "id": "6f526583-2837-4dda-8d7a-8705495b6c5e",
   "metadata": {},
   "outputs": [],
   "source": []
  }
 ],
 "metadata": {
  "kernelspec": {
   "display_name": "Python [conda env:suncor]",
   "language": "python",
   "name": "conda-env-suncor-py"
  },
  "language_info": {
   "codemirror_mode": {
    "name": "ipython",
    "version": 3
   },
   "file_extension": ".py",
   "mimetype": "text/x-python",
   "name": "python",
   "nbconvert_exporter": "python",
   "pygments_lexer": "ipython3",
   "version": "3.9.1"
  }
 },
 "nbformat": 4,
 "nbformat_minor": 5
}
