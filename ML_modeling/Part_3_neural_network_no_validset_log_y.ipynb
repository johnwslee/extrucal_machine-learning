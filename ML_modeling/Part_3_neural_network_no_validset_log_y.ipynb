{
 "cells": [
  {
   "cell_type": "markdown",
   "id": "aa22d742-65db-4021-9518-ec3ab054b8d5",
   "metadata": {},
   "source": [
    "# Imports"
   ]
  },
  {
   "cell_type": "code",
   "execution_count": 1,
   "id": "d0c7da01-322f-41d1-bf3d-b5a643fcd7df",
   "metadata": {},
   "outputs": [],
   "source": [
    "import pandas as pd\n",
    "import numpy as np\n",
    "import matplotlib.pyplot as plt\n",
    "\n",
    "import random\n",
    "\n",
    "from extrucal.extrusion import throughput_cal\n",
    "\n",
    "from sklearn.metrics import make_scorer, mean_squared_error, r2_score\n",
    "from sklearn.pipeline import Pipeline, make_pipeline\n",
    "from sklearn.preprocessing import OneHotEncoder, OrdinalEncoder, StandardScaler\n",
    "from sklearn.model_selection import (\n",
    "    GridSearchCV,\n",
    "    RandomizedSearchCV,\n",
    "    cross_val_score,\n",
    "    cross_validate,\n",
    "    train_test_split,\n",
    ")\n",
    "import warnings\n",
    "\n",
    "from sklearn.utils import shuffle\n",
    "\n",
    "from tqdm import tqdm\n",
    "\n",
    "import torch\n",
    "import matplotlib.pyplot as plt\n",
    "import numpy as np\n",
    "from torch import nn, optim\n",
    "from torch.utils.data import DataLoader, TensorDataset\n",
    "from torchvision import datasets, transforms\n",
    "from torchvision.transforms import ToTensor\n",
    "from torchsummary import summary\n",
    "from torchmetrics import MeanAbsolutePercentageError\n",
    "random.seed(0)"
   ]
  },
  {
   "cell_type": "markdown",
   "id": "20a3bbd8-2c04-454b-84db-87f2ce93eebe",
   "metadata": {},
   "source": [
    "# Dataset Read In"
   ]
  },
  {
   "cell_type": "code",
   "execution_count": 2,
   "id": "98598566-aab8-4d29-aeb9-642d95a1d897",
   "metadata": {},
   "outputs": [
    {
     "data": {
      "text/html": [
       "<div>\n",
       "<style scoped>\n",
       "    .dataframe tbody tr th:only-of-type {\n",
       "        vertical-align: middle;\n",
       "    }\n",
       "\n",
       "    .dataframe tbody tr th {\n",
       "        vertical-align: top;\n",
       "    }\n",
       "\n",
       "    .dataframe thead th {\n",
       "        text-align: right;\n",
       "    }\n",
       "</style>\n",
       "<table border=\"1\" class=\"dataframe\">\n",
       "  <thead>\n",
       "    <tr style=\"text-align: right;\">\n",
       "      <th></th>\n",
       "      <th>extruder_size</th>\n",
       "      <th>metering_depth</th>\n",
       "      <th>polymer_density</th>\n",
       "      <th>rpm</th>\n",
       "      <th>screw_pitch</th>\n",
       "      <th>flight_width</th>\n",
       "      <th>number_flight</th>\n",
       "      <th>throughput</th>\n",
       "    </tr>\n",
       "  </thead>\n",
       "  <tbody>\n",
       "    <tr>\n",
       "      <th>0</th>\n",
       "      <td>80</td>\n",
       "      <td>7.2</td>\n",
       "      <td>1200</td>\n",
       "      <td>95</td>\n",
       "      <td>48.0</td>\n",
       "      <td>12.0</td>\n",
       "      <td>2</td>\n",
       "      <td>92.55</td>\n",
       "    </tr>\n",
       "    <tr>\n",
       "      <th>1</th>\n",
       "      <td>220</td>\n",
       "      <td>17.6</td>\n",
       "      <td>1300</td>\n",
       "      <td>75</td>\n",
       "      <td>154.0</td>\n",
       "      <td>13.2</td>\n",
       "      <td>1</td>\n",
       "      <td>4397.68</td>\n",
       "    </tr>\n",
       "    <tr>\n",
       "      <th>2</th>\n",
       "      <td>190</td>\n",
       "      <td>7.6</td>\n",
       "      <td>1400</td>\n",
       "      <td>95</td>\n",
       "      <td>323.0</td>\n",
       "      <td>36.1</td>\n",
       "      <td>2</td>\n",
       "      <td>3187.76</td>\n",
       "    </tr>\n",
       "    <tr>\n",
       "      <th>3</th>\n",
       "      <td>190</td>\n",
       "      <td>7.6</td>\n",
       "      <td>800</td>\n",
       "      <td>55</td>\n",
       "      <td>228.0</td>\n",
       "      <td>26.6</td>\n",
       "      <td>1</td>\n",
       "      <td>1008.12</td>\n",
       "    </tr>\n",
       "    <tr>\n",
       "      <th>4</th>\n",
       "      <td>60</td>\n",
       "      <td>1.8</td>\n",
       "      <td>800</td>\n",
       "      <td>10</td>\n",
       "      <td>48.0</td>\n",
       "      <td>10.8</td>\n",
       "      <td>1</td>\n",
       "      <td>2.72</td>\n",
       "    </tr>\n",
       "    <tr>\n",
       "      <th>...</th>\n",
       "      <td>...</td>\n",
       "      <td>...</td>\n",
       "      <td>...</td>\n",
       "      <td>...</td>\n",
       "      <td>...</td>\n",
       "      <td>...</td>\n",
       "      <td>...</td>\n",
       "      <td>...</td>\n",
       "    </tr>\n",
       "    <tr>\n",
       "      <th>1935355</th>\n",
       "      <td>40</td>\n",
       "      <td>3.2</td>\n",
       "      <td>1000</td>\n",
       "      <td>30</td>\n",
       "      <td>32.0</td>\n",
       "      <td>4.0</td>\n",
       "      <td>1</td>\n",
       "      <td>8.78</td>\n",
       "    </tr>\n",
       "    <tr>\n",
       "      <th>1935356</th>\n",
       "      <td>180</td>\n",
       "      <td>3.6</td>\n",
       "      <td>800</td>\n",
       "      <td>85</td>\n",
       "      <td>306.0</td>\n",
       "      <td>27.0</td>\n",
       "      <td>2</td>\n",
       "      <td>762.58</td>\n",
       "    </tr>\n",
       "    <tr>\n",
       "      <th>1935357</th>\n",
       "      <td>30</td>\n",
       "      <td>1.8</td>\n",
       "      <td>1100</td>\n",
       "      <td>60</td>\n",
       "      <td>30.0</td>\n",
       "      <td>2.7</td>\n",
       "      <td>1</td>\n",
       "      <td>7.89</td>\n",
       "    </tr>\n",
       "    <tr>\n",
       "      <th>1935358</th>\n",
       "      <td>70</td>\n",
       "      <td>6.3</td>\n",
       "      <td>1000</td>\n",
       "      <td>40</td>\n",
       "      <td>35.0</td>\n",
       "      <td>10.5</td>\n",
       "      <td>2</td>\n",
       "      <td>11.59</td>\n",
       "    </tr>\n",
       "    <tr>\n",
       "      <th>1935359</th>\n",
       "      <td>180</td>\n",
       "      <td>10.8</td>\n",
       "      <td>1050</td>\n",
       "      <td>45</td>\n",
       "      <td>306.0</td>\n",
       "      <td>30.6</td>\n",
       "      <td>2</td>\n",
       "      <td>1458.83</td>\n",
       "    </tr>\n",
       "  </tbody>\n",
       "</table>\n",
       "<p>1935360 rows × 8 columns</p>\n",
       "</div>"
      ],
      "text/plain": [
       "         extruder_size  metering_depth  polymer_density  rpm  screw_pitch  \\\n",
       "0                   80             7.2             1200   95         48.0   \n",
       "1                  220            17.6             1300   75        154.0   \n",
       "2                  190             7.6             1400   95        323.0   \n",
       "3                  190             7.6              800   55        228.0   \n",
       "4                   60             1.8              800   10         48.0   \n",
       "...                ...             ...              ...  ...          ...   \n",
       "1935355             40             3.2             1000   30         32.0   \n",
       "1935356            180             3.6              800   85        306.0   \n",
       "1935357             30             1.8             1100   60         30.0   \n",
       "1935358             70             6.3             1000   40         35.0   \n",
       "1935359            180            10.8             1050   45        306.0   \n",
       "\n",
       "         flight_width  number_flight  throughput  \n",
       "0                12.0              2       92.55  \n",
       "1                13.2              1     4397.68  \n",
       "2                36.1              2     3187.76  \n",
       "3                26.6              1     1008.12  \n",
       "4                10.8              1        2.72  \n",
       "...               ...            ...         ...  \n",
       "1935355           4.0              1        8.78  \n",
       "1935356          27.0              2      762.58  \n",
       "1935357           2.7              1        7.89  \n",
       "1935358          10.5              2       11.59  \n",
       "1935359          30.6              2     1458.83  \n",
       "\n",
       "[1935360 rows x 8 columns]"
      ]
     },
     "execution_count": 2,
     "metadata": {},
     "output_type": "execute_result"
    }
   ],
   "source": [
    "df = pd.read_csv(\"../data/extrucal_dataset.csv\")\n",
    "df"
   ]
  },
  {
   "cell_type": "markdown",
   "id": "2f20be8b-e48e-4dfa-a705-23d5e20ced2d",
   "metadata": {},
   "source": [
    "# Useful Functions"
   ]
  },
  {
   "cell_type": "code",
   "execution_count": 3,
   "id": "45bd3922-94dc-485f-a819-3dbeac265d9f",
   "metadata": {},
   "outputs": [],
   "source": [
    "def mean_std_cross_val_scores(model, X_train, y_train, **kwargs):\n",
    "    \"\"\"\n",
    "    Returns mean and std of cross validation\n",
    "\n",
    "    Parameters\n",
    "    ----------\n",
    "    model :\n",
    "        scikit-learn model\n",
    "    X_train : numpy array or pandas DataFrame\n",
    "        X in the training data\n",
    "    y_train :\n",
    "        y in the training data\n",
    "\n",
    "    Returns\n",
    "    ----------\n",
    "        pandas Series with mean scores from cross_validation\n",
    "    \"\"\"\n",
    "\n",
    "    scores = cross_validate(model, X_train, y_train, **kwargs)\n",
    "\n",
    "    mean_scores = pd.DataFrame(scores).mean()\n",
    "    std_scores = pd.DataFrame(scores).std()\n",
    "    out_col = []\n",
    "\n",
    "    for i in range(len(mean_scores)):\n",
    "        out_col.append((f\"%0.3f (+/- %0.3f)\" % (mean_scores[i], std_scores[i])))\n",
    "\n",
    "    return pd.Series(data=out_col, index=mean_scores.index)"
   ]
  },
  {
   "cell_type": "code",
   "execution_count": 4,
   "id": "43bcd5a3-882d-4225-bd81-f22c2142b1e5",
   "metadata": {},
   "outputs": [],
   "source": [
    "def mape(true, pred):\n",
    "    return 100.0 * np.mean(np.abs((pred - true) / (true+0.1)))  # 0.1 was added to prevent division by zero\n",
    "\n",
    "# make a scorer function that we can pass into cross-validation\n",
    "mape_scorer = make_scorer(mape, greater_is_better=False)"
   ]
  },
  {
   "cell_type": "markdown",
   "id": "0bb0e741-2ca3-4923-87a2-c702fb85e044",
   "metadata": {},
   "source": [
    "# Train/Test Split"
   ]
  },
  {
   "cell_type": "code",
   "execution_count": 5,
   "id": "61913909-2206-4bc8-93cc-1a4142954db2",
   "metadata": {},
   "outputs": [
    {
     "data": {
      "text/html": [
       "<div>\n",
       "<style scoped>\n",
       "    .dataframe tbody tr th:only-of-type {\n",
       "        vertical-align: middle;\n",
       "    }\n",
       "\n",
       "    .dataframe tbody tr th {\n",
       "        vertical-align: top;\n",
       "    }\n",
       "\n",
       "    .dataframe thead th {\n",
       "        text-align: right;\n",
       "    }\n",
       "</style>\n",
       "<table border=\"1\" class=\"dataframe\">\n",
       "  <thead>\n",
       "    <tr style=\"text-align: right;\">\n",
       "      <th></th>\n",
       "      <th>extruder_size</th>\n",
       "      <th>metering_depth</th>\n",
       "      <th>polymer_density</th>\n",
       "      <th>rpm</th>\n",
       "      <th>screw_pitch</th>\n",
       "      <th>flight_width</th>\n",
       "      <th>number_flight</th>\n",
       "      <th>throughput</th>\n",
       "    </tr>\n",
       "  </thead>\n",
       "  <tbody>\n",
       "    <tr>\n",
       "      <th>665324</th>\n",
       "      <td>120</td>\n",
       "      <td>9.6</td>\n",
       "      <td>1400</td>\n",
       "      <td>50</td>\n",
       "      <td>72.0</td>\n",
       "      <td>24.0</td>\n",
       "      <td>2</td>\n",
       "      <td>93.53</td>\n",
       "    </tr>\n",
       "    <tr>\n",
       "      <th>775241</th>\n",
       "      <td>230</td>\n",
       "      <td>9.2</td>\n",
       "      <td>1200</td>\n",
       "      <td>45</td>\n",
       "      <td>161.0</td>\n",
       "      <td>43.7</td>\n",
       "      <td>2</td>\n",
       "      <td>624.11</td>\n",
       "    </tr>\n",
       "    <tr>\n",
       "      <th>867365</th>\n",
       "      <td>220</td>\n",
       "      <td>11.0</td>\n",
       "      <td>800</td>\n",
       "      <td>90</td>\n",
       "      <td>242.0</td>\n",
       "      <td>13.2</td>\n",
       "      <td>1</td>\n",
       "      <td>3208.52</td>\n",
       "    </tr>\n",
       "    <tr>\n",
       "      <th>1458314</th>\n",
       "      <td>250</td>\n",
       "      <td>10.0</td>\n",
       "      <td>1150</td>\n",
       "      <td>0</td>\n",
       "      <td>300.0</td>\n",
       "      <td>50.0</td>\n",
       "      <td>2</td>\n",
       "      <td>0.00</td>\n",
       "    </tr>\n",
       "    <tr>\n",
       "      <th>1097383</th>\n",
       "      <td>70</td>\n",
       "      <td>5.6</td>\n",
       "      <td>800</td>\n",
       "      <td>45</td>\n",
       "      <td>77.0</td>\n",
       "      <td>7.0</td>\n",
       "      <td>2</td>\n",
       "      <td>64.95</td>\n",
       "    </tr>\n",
       "  </tbody>\n",
       "</table>\n",
       "</div>"
      ],
      "text/plain": [
       "         extruder_size  metering_depth  polymer_density  rpm  screw_pitch  \\\n",
       "665324             120             9.6             1400   50         72.0   \n",
       "775241             230             9.2             1200   45        161.0   \n",
       "867365             220            11.0              800   90        242.0   \n",
       "1458314            250            10.0             1150    0        300.0   \n",
       "1097383             70             5.6              800   45         77.0   \n",
       "\n",
       "         flight_width  number_flight  throughput  \n",
       "665324           24.0              2       93.53  \n",
       "775241           43.7              2      624.11  \n",
       "867365           13.2              1     3208.52  \n",
       "1458314          50.0              2        0.00  \n",
       "1097383           7.0              2       64.95  "
      ]
     },
     "execution_count": 5,
     "metadata": {},
     "output_type": "execute_result"
    }
   ],
   "source": [
    "train_df, test_df = train_test_split(df, test_size=0.2, random_state=123)\n",
    "train_df.head()"
   ]
  },
  {
   "cell_type": "code",
   "execution_count": 6,
   "id": "f30f7fbd-2885-4940-af64-3d328bc498f4",
   "metadata": {},
   "outputs": [
    {
     "name": "stdout",
     "output_type": "stream",
     "text": [
      "<class 'pandas.core.frame.DataFrame'>\n",
      "Int64Index: 1548288 entries, 665324 to 773630\n",
      "Data columns (total 8 columns):\n",
      " #   Column           Non-Null Count    Dtype  \n",
      "---  ------           --------------    -----  \n",
      " 0   extruder_size    1548288 non-null  int64  \n",
      " 1   metering_depth   1548288 non-null  float64\n",
      " 2   polymer_density  1548288 non-null  int64  \n",
      " 3   rpm              1548288 non-null  int64  \n",
      " 4   screw_pitch      1548288 non-null  float64\n",
      " 5   flight_width     1548288 non-null  float64\n",
      " 6   number_flight    1548288 non-null  int64  \n",
      " 7   throughput       1548288 non-null  float64\n",
      "dtypes: float64(4), int64(4)\n",
      "memory usage: 106.3 MB\n"
     ]
    }
   ],
   "source": [
    "train_df.info()"
   ]
  },
  {
   "cell_type": "code",
   "execution_count": 7,
   "id": "6bd045ad-66b1-4e67-879f-875078609eb4",
   "metadata": {},
   "outputs": [],
   "source": [
    "X_train = train_df.drop(columns=[\"throughput\"])\n",
    "y_train = train_df[\"throughput\"]\n",
    "\n",
    "X_test = test_df.drop(columns=[\"throughput\"])\n",
    "y_test = test_df[\"throughput\"]"
   ]
  },
  {
   "cell_type": "code",
   "execution_count": 8,
   "id": "4c585060-c1e8-499e-b97a-9c63c55081d6",
   "metadata": {},
   "outputs": [],
   "source": [
    "# X_train_t = X_train.iloc[:774144, :]\n",
    "# y_train_t = y_train[:774144]\n",
    "\n",
    "# X_train_v = X_train.iloc[774144:, :]\n",
    "# y_train_v = y_train[774144:]"
   ]
  },
  {
   "cell_type": "markdown",
   "id": "a1b60ed8-b5cb-428e-b435-39ad96532745",
   "metadata": {},
   "source": [
    "# `Neural Network`"
   ]
  },
  {
   "cell_type": "markdown",
   "id": "f1a65a31-6c87-4e20-9919-614fdb84ac21",
   "metadata": {},
   "source": [
    "### 1. Model Setup"
   ]
  },
  {
   "cell_type": "code",
   "execution_count": 9,
   "id": "07831f16-3d33-4784-aa13-c30496048d41",
   "metadata": {},
   "outputs": [],
   "source": [
    "class NeuralNetwork(nn.Module):\n",
    "    def __init__(self, input_size, output_size):\n",
    "        super(NeuralNetwork, self).__init__()\n",
    "        self.flatten = nn.Flatten()\n",
    "        self.linear_relu_stack = nn.Sequential(\n",
    "            nn.Linear(input_size, 24),\n",
    "            nn.ReLU(),\n",
    "            # nn.Dropout(0.5),\n",
    "            nn.Linear(24, 12),\n",
    "            nn.ReLU(),\n",
    "            # nn.Dropout(0.5),\n",
    "            nn.Linear(12, 6),\n",
    "            nn.ReLU(),\n",
    "            # nn.Dropout(0.5),\n",
    "            nn.Linear(6, output_size),\n",
    "        )\n",
    "\n",
    "    def forward(self, x):\n",
    "        x = self.flatten(x)\n",
    "        logits = self.linear_relu_stack(x)\n",
    "        return logits"
   ]
  },
  {
   "cell_type": "code",
   "execution_count": 10,
   "id": "5a39f331-1a99-4876-b0f5-cfe793e51a91",
   "metadata": {},
   "outputs": [],
   "source": [
    "def prepare_dataloader(X_train, y_train, batch_size, shuffle=True):\n",
    "    # generate sequences\n",
    "    scaler = StandardScaler()  # standardize data\n",
    "    scaled_X_train = scaler.fit_transform(X_train)\n",
    "    scaled_y_train = scaler.fit_transform(np.log(y_train[:, np.newaxis]+0.1))\n",
    "    dataset = TensorDataset(torch.tensor(scaled_X_train, dtype=torch.float32).unsqueeze(-1).permute(0, 2, 1),\n",
    "                            torch.tensor(scaled_y_train, dtype=torch.float32))\n",
    "    dataloader = DataLoader(dataset, batch_size=batch_size, shuffle=shuffle, drop_last=True)\n",
    "    return dataloader, scaled_X_train, scaled_y_train, scaler"
   ]
  },
  {
   "cell_type": "code",
   "execution_count": 11,
   "id": "60f7137d-c471-4ae6-8c07-4fc3b9d05fd9",
   "metadata": {},
   "outputs": [],
   "source": [
    "def trainer(model, criterion, optimizer, trainloader, validloader, epochs=5, verbose=True):\n",
    "    \"\"\"Simple training wrapper for PyTorch network.\"\"\"\n",
    "    \n",
    "    train_loss, valid_loss, train_MAPE, valid_MAPE = [], [], [], []\n",
    "    for epoch in range(epochs):  # for each epoch\n",
    "        train_batch_loss = 0\n",
    "        valid_batch_loss = 0\n",
    "        train_batch_mape = 0\n",
    "        valid_batch_mape = 0\n",
    "        \n",
    "        # Training\n",
    "        for X, y in trainloader:\n",
    "            optimizer.zero_grad()       # Zero all the gradients w.r.t. parameters\n",
    "            # X = X.to(device)\n",
    "            # y = y.to(device)\n",
    "            y_hat = model(X.reshape(X.shape[0], -1))  # Reshape data \n",
    "            loss = criterion(y_hat, y)  # Calculate loss based on output\n",
    "            loss.backward()             # Calculate gradients w.r.t. parameters\n",
    "            optimizer.step()            # Update parameters\n",
    "            train_batch_loss += loss.item()  # Add loss for this batch to running total\n",
    "            train_batch_mape += mape(y.detach().numpy(), y_hat.detach().numpy()).mean()\n",
    "        train_loss.append(train_batch_loss/len(trainloader))\n",
    "        train_MAPE.append(train_batch_mape/len(trainloader))  # MAE\n",
    "        \n",
    "        # Validation\n",
    "        model.eval()\n",
    "        with torch.no_grad():  # this stops pytorch doing computational graph stuff under-the-hood and saves memory and time\n",
    "            for X, y in validloader:\n",
    "                # X = X.to(device)\n",
    "                # y = y.to(device)\n",
    "                y_hat = model(X.reshape(X.shape[0], -1))  # Reshape data to (batch_size, 784) and forward pass to get output\n",
    "                loss = criterion(y_hat, y)\n",
    "                valid_batch_loss += loss.item()\n",
    "                valid_batch_mape += mape(y.detach().numpy(), y_hat.detach().numpy()).mean()\n",
    "        valid_loss.append(valid_batch_loss/len(validloader))\n",
    "        valid_MAPE.append(valid_batch_mape/len(validloader))  # accuracy\n",
    "        \n",
    "        model.train()\n",
    "        \n",
    "        # Print progress\n",
    "        if verbose:\n",
    "            if epoch % 10 == 0:\n",
    "                print(f\"Epoch {epoch}:\",\n",
    "                      f\"Train Loss: {train_loss[-1]:.3f}.\",\n",
    "                      f\"Valid Loss: {valid_loss[-1]:.3f}.\",\n",
    "                      f\"Train MAPE: {train_MAPE[-1]:.2f}.\"\n",
    "                      f\"Valid MAPE: {valid_MAPE[-1]:.2f}.\")\n",
    "            \n",
    "    print(\"\\nTraining ended.\")\n",
    "    \n",
    "    return train_loss, valid_loss"
   ]
  },
  {
   "cell_type": "code",
   "execution_count": 12,
   "id": "fd04dd42-211b-4441-8919-8d3c23777b98",
   "metadata": {},
   "outputs": [],
   "source": [
    "torch.manual_seed(42)\n",
    "\n",
    "model = NeuralNetwork(7, 1)\n",
    "optimizer = optim.Adam(model.parameters(), lr=0.001)\n",
    "criterion = MeanAbsolutePercentageError()\n",
    "BATCH_SIZE = 32"
   ]
  },
  {
   "cell_type": "code",
   "execution_count": 13,
   "id": "a3e89a36-3583-4505-981f-47b109b6a8ce",
   "metadata": {},
   "outputs": [
    {
     "name": "stdout",
     "output_type": "stream",
     "text": [
      "==========================================================================================\n",
      "Layer (type:depth-idx)                   Output Shape              Param #\n",
      "==========================================================================================\n",
      "├─Flatten: 1-1                           [-1, 7]                   --\n",
      "├─Sequential: 1-2                        [-1, 1]                   --\n",
      "|    └─Linear: 2-1                       [-1, 24]                  192\n",
      "|    └─ReLU: 2-2                         [-1, 24]                  --\n",
      "|    └─Linear: 2-3                       [-1, 12]                  300\n",
      "|    └─ReLU: 2-4                         [-1, 12]                  --\n",
      "|    └─Linear: 2-5                       [-1, 6]                   78\n",
      "|    └─ReLU: 2-6                         [-1, 6]                   --\n",
      "|    └─Linear: 2-7                       [-1, 1]                   7\n",
      "==========================================================================================\n",
      "Total params: 577\n",
      "Trainable params: 577\n",
      "Non-trainable params: 0\n",
      "Total mult-adds (M): 0.00\n",
      "==========================================================================================\n",
      "Input size (MB): 0.00\n",
      "Forward/backward pass size (MB): 0.00\n",
      "Params size (MB): 0.00\n",
      "Estimated Total Size (MB): 0.00\n",
      "==========================================================================================\n"
     ]
    }
   ],
   "source": [
    "summary(model, (1, 7), device=\"cpu\");"
   ]
  },
  {
   "cell_type": "markdown",
   "id": "598855e6-0487-49ae-82c6-399fccceb0b3",
   "metadata": {},
   "source": [
    "### 1. Training"
   ]
  },
  {
   "cell_type": "code",
   "execution_count": 14,
   "id": "a4dd0199-14b3-4843-93d0-9ec000dd3f69",
   "metadata": {},
   "outputs": [
    {
     "name": "stderr",
     "output_type": "stream",
     "text": [
      "C:\\Users\\johnw\\AppData\\Local\\Temp\\ipykernel_19972\\3360466915.py:5: FutureWarning: Support for multi-dimensional indexing (e.g. `obj[:, None]`) is deprecated and will be removed in a future version.  Convert to a numpy array before indexing instead.\n",
      "  scaled_y_train = scaler.fit_transform(np.log(y_train[:, np.newaxis]+0.1))\n",
      "C:\\Users\\johnw\\AppData\\Local\\Temp\\ipykernel_19972\\3360466915.py:5: FutureWarning: Support for multi-dimensional indexing (e.g. `obj[:, None]`) is deprecated and will be removed in a future version.  Convert to a numpy array before indexing instead.\n",
      "  scaled_y_train = scaler.fit_transform(np.log(y_train[:, np.newaxis]+0.1))\n"
     ]
    }
   ],
   "source": [
    "trainloader, scaled_X_train, scaled_y_train, scaler = prepare_dataloader(\n",
    "    X_train, y_train, batch_size=BATCH_SIZE, shuffle=True\n",
    ")\n",
    "validloader, scaled_X_test, scaled_y_test, scaler = prepare_dataloader(\n",
    "    X_test, y_test, batch_size=BATCH_SIZE, shuffle=True\n",
    ")"
   ]
  },
  {
   "cell_type": "code",
   "execution_count": 39,
   "id": "73e0c478-818c-4a80-9f5f-de3834a42bf5",
   "metadata": {},
   "outputs": [],
   "source": [
    "optimizer = optim.Adam(model.parameters(), lr=0.00001)"
   ]
  },
  {
   "cell_type": "code",
   "execution_count": 40,
   "id": "fc56a14f-9c1d-41fe-81f5-6cea30d8a7f9",
   "metadata": {},
   "outputs": [
    {
     "name": "stdout",
     "output_type": "stream",
     "text": [
      "Epoch 0: Train Loss: 0.083. Valid Loss: 0.082. Train MAPE: 16.27.Valid MAPE: 14.87.\n",
      "Epoch 10: Train Loss: 0.082. Valid Loss: 0.082. Train MAPE: 16.08.Valid MAPE: 14.36.\n",
      "Epoch 20: Train Loss: 0.082. Valid Loss: 0.081. Train MAPE: 16.28.Valid MAPE: 14.42.\n",
      "Epoch 30: Train Loss: 0.082. Valid Loss: 0.082. Train MAPE: 16.34.Valid MAPE: 14.37.\n",
      "Epoch 40: Train Loss: 0.083. Valid Loss: 0.081. Train MAPE: 16.39.Valid MAPE: 13.68.\n",
      "Epoch 50: Train Loss: 0.083. Valid Loss: 0.082. Train MAPE: 16.38.Valid MAPE: 14.96.\n",
      "Epoch 60: Train Loss: 0.083. Valid Loss: 0.081. Train MAPE: 16.49.Valid MAPE: 13.47.\n",
      "Epoch 70: Train Loss: 0.082. Valid Loss: 0.081. Train MAPE: 16.31.Valid MAPE: 13.70.\n",
      "Epoch 80: Train Loss: 0.083. Valid Loss: 0.081. Train MAPE: 16.38.Valid MAPE: 13.56.\n",
      "\n",
      "Training ended.\n",
      "CPU times: total: 2h 1min 26s\n",
      "Wall time: 1h 57min 48s\n"
     ]
    }
   ],
   "source": [
    "%%time\n",
    "\n",
    "train_loss, valid_loss = trainer(\n",
    "    model, criterion, optimizer, trainloader, validloader, epochs=81, verbose=True\n",
    ")"
   ]
  },
  {
   "cell_type": "code",
   "execution_count": 41,
   "id": "a96f0f99-c585-4ab0-a256-d23a516e9c1b",
   "metadata": {},
   "outputs": [
    {
     "data": {
      "image/png": "[encoded data removed]",
      "text/plain": [
       "<Figure size 432x288 with 1 Axes>"
      ]
     },
     "metadata": {
      "needs_background": "light"
     },
     "output_type": "display_data"
    }
   ],
   "source": [
    "loss_dict = {\"train_loss\": train_loss, \"valid_loss\": valid_loss}\n",
    "loss_df = pd.DataFrame(loss_dict)\n",
    "loss_df.plot.line()\n",
    "plt.xlabel(\"Epoch\")\n",
    "plt.ylabel(\"Loss\")\n",
    "plt.show();"
   ]
  },
  {
   "cell_type": "code",
   "execution_count": 42,
   "id": "16643732-28b2-486a-99c0-4247cf98fefe",
   "metadata": {},
   "outputs": [],
   "source": [
    "torch.save(model.state_dict(), 'nn_model_weights_log.pth')"
   ]
  },
  {
   "cell_type": "markdown",
   "id": "6d5e9ed5-1a73-41e6-95f8-0f8d9fdd9cca",
   "metadata": {},
   "source": [
    "### 2. Evaluation"
   ]
  },
  {
   "cell_type": "code",
   "execution_count": 43,
   "id": "f451f255-0851-4030-abe2-18f3abdb3465",
   "metadata": {},
   "outputs": [
    {
     "name": "stderr",
     "output_type": "stream",
     "text": [
      "C:\\Users\\johnw\\AppData\\Local\\Temp\\ipykernel_19972\\3360466915.py:5: FutureWarning: Support for multi-dimensional indexing (e.g. `obj[:, None]`) is deprecated and will be removed in a future version.  Convert to a numpy array before indexing instead.\n",
      "  scaled_y_train = scaler.fit_transform(np.log(y_train[:, np.newaxis]+0.1))\n"
     ]
    }
   ],
   "source": [
    "testloader, scaled_X_test, scaled_y_test, scaler = prepare_dataloader(\n",
    "    X_test, y_test, batch_size=1, shuffle=False\n",
    ")"
   ]
  },
  {
   "cell_type": "code",
   "execution_count": 44,
   "id": "846dbac0-a15a-490b-b4c5-f4e08888a984",
   "metadata": {},
   "outputs": [],
   "source": [
    "scaled_prediction = []\n",
    "\n",
    "for X, _ in testloader:\n",
    "    y_pred = model(X.reshape(X.shape[0], -1))\n",
    "    scaled_prediction.append(y_pred.item())"
   ]
  },
  {
   "cell_type": "code",
   "execution_count": 45,
   "id": "b05b02d1-8d3f-4a60-bbf3-a4ad3b4e88b9",
   "metadata": {},
   "outputs": [],
   "source": [
    "y_pred = np.exp(scaler.inverse_transform(np.array(scaled_prediction).reshape(-1, 1)).squeeze())"
   ]
  },
  {
   "cell_type": "code",
   "execution_count": 46,
   "id": "b7517c6a-e3bf-42ce-b201-bf9c16ffa6f8",
   "metadata": {},
   "outputs": [
    {
     "data": {
      "text/plain": [
       "2140.2932160304144"
      ]
     },
     "execution_count": 46,
     "metadata": {},
     "output_type": "execute_result"
    }
   ],
   "source": [
    "mape(y_test, y_pred)"
   ]
  },
  {
   "cell_type": "code",
   "execution_count": 47,
   "id": "ec07944b-b6ec-4f40-83d0-07918a78986d",
   "metadata": {},
   "outputs": [
    {
     "data": {
      "text/plain": [
       "tensor(1825152.1250)"
      ]
     },
     "execution_count": 47,
     "metadata": {},
     "output_type": "execute_result"
    }
   ],
   "source": [
    "test = MeanAbsolutePercentageError()#torch.tensor(y_pred), torch.tensor(np.array(y_test)))\n",
    "test(torch.tensor(y_pred), torch.tensor(np.array(y_test)))"
   ]
  },
  {
   "cell_type": "code",
   "execution_count": 48,
   "id": "e583c1f2-053a-448b-bc94-9cf0bfd6469c",
   "metadata": {},
   "outputs": [
    {
     "data": {
      "image/png": "[encoded data removed]",
      "text/plain": [
       "<Figure size 720x720 with 1 Axes>"
      ]
     },
     "metadata": {
      "needs_background": "light"
     },
     "output_type": "display_data"
    }
   ],
   "source": [
    "plt.figure(figsize=(10, 10))\n",
    "plt.scatter(y_test, y_pred)\n",
    "plt.xlabel(\"y_test\")\n",
    "plt.ylabel(\"y_pred\")\n",
    "plt.xlim(0, 20500)\n",
    "plt.ylim(0, 20500)\n",
    "plt.title(\"Comparison of y_test and y_pred\")\n",
    "plt.show();"
   ]
  },
  {
   "cell_type": "markdown",
   "id": "2939a32c-f6c3-4012-8c77-ccf22b911b42",
   "metadata": {},
   "source": [
    "### 3. Comparison with `extrucal` results"
   ]
  },
  {
   "cell_type": "code",
   "execution_count": 24,
   "id": "b61ee565-8f7f-47dc-9cca-5da8cc5715e2",
   "metadata": {
    "tags": []
   },
   "outputs": [],
   "source": [
    "# extruder_size = []\n",
    "# for i in range(50, 251, 50):\n",
    "#     extruder_size.extend([i]*10)\n",
    "\n",
    "# metering_depth_percent = [0.05] * 50\n",
    "# polymer_density = [1000] * 50\n",
    "# screw_pitch_percent = [1] * 50\n",
    "# flight_width_percent = [0.1] * 50\n",
    "# number_flight = [1] * 50\n",
    "# rpm = [r for r in range(0, 91, 10)] * 5"
   ]
  },
  {
   "cell_type": "code",
   "execution_count": 25,
   "id": "43d4c568-9e64-4435-9dad-84d16f67b9b2",
   "metadata": {},
   "outputs": [],
   "source": [
    "# df = pd.DataFrame(\n",
    "#     {\"extruder_size\": extruder_size,\n",
    "#      \"metering_depth_percent\": metering_depth_percent,\n",
    "#      \"polymer_density\": polymer_density,\n",
    "#      \"screw_pitch_percent\": screw_pitch_percent,\n",
    "#      \"flight_width_percent\": flight_width_percent,\n",
    "#      \"number_flight\": number_flight,\n",
    "#      \"rpm\": rpm}\n",
    "# )\n",
    "\n",
    "# df[\"metering_depth\"] = df[\"extruder_size\"] * df[\"metering_depth_percent\"]\n",
    "# df[\"screw_pitch\"] = df[\"extruder_size\"] * df[\"screw_pitch_percent\"]\n",
    "# df[\"flight_width\"] = df[\"extruder_size\"] * df[\"flight_width_percent\"]\n",
    "\n",
    "# new_col_order = [\n",
    "#     \"extruder_size\", \"metering_depth\", \"polymer_density\", \n",
    "#     \"rpm\", \"screw_pitch\", \"flight_width\", \"number_flight\", ]\n",
    "\n",
    "# df = df[new_col_order]\n",
    "# df.head()"
   ]
  },
  {
   "cell_type": "code",
   "execution_count": 26,
   "id": "87c27047-c00e-4ca2-9da1-ab84a23539d5",
   "metadata": {},
   "outputs": [],
   "source": [
    "# df[\"RF_model\"] = model(torch.tensor(np.array(df.iloc[0])))"
   ]
  },
  {
   "cell_type": "code",
   "execution_count": 27,
   "id": "bc862eb7-79a1-4bc2-8661-f188c8cabc05",
   "metadata": {},
   "outputs": [],
   "source": [
    "# df[\"extrucal\"] = df.apply(\n",
    "#     lambda row: throughput_cal(\n",
    "#         row[\"extruder_size\"],\n",
    "#         row[\"metering_depth\"],\n",
    "#         row[\"polymer_density\"],\n",
    "#         row[\"rpm\"],\n",
    "#         row[\"screw_pitch\"],\n",
    "#         row[\"flight_width\"],\n",
    "#         int(row[\"number_flight\"])), axis=1\n",
    "# )"
   ]
  },
  {
   "cell_type": "code",
   "execution_count": 28,
   "id": "faee0530-4af7-48fd-b5f2-1738a2bfeda0",
   "metadata": {},
   "outputs": [],
   "source": [
    "# fig, axes = plt.subplots(nrows=5, ncols=1, figsize=(6, 20))\n",
    "\n",
    "# fig = df.loc[0:9, [\"rpm\", \"extrucal\", \"RF_model\"]].plot.line(\n",
    "#     x=\"rpm\", ax=axes[0], alpha=0.5\n",
    "# )\n",
    "# fig.set_title(\"50mm Extruder\", loc='left')\n",
    "# fig = df.loc[10:19, [\"rpm\", \"extrucal\", \"RF_model\"]].plot.line(\n",
    "#     x=\"rpm\", ax=axes[1], alpha=0.5\n",
    "# )\n",
    "# fig.set_title(\"100mm Extruder\", loc='left')\n",
    "# fig = df.loc[20:29, [\"rpm\", \"extrucal\", \"RF_model\"]].plot.line(\n",
    "#     x=\"rpm\", ax=axes[2], alpha=0.5\n",
    "# )\n",
    "# fig.set_title(\"150mm Extruder\", loc='left')\n",
    "# fig = df.loc[30:39, [\"rpm\", \"extrucal\", \"RF_model\"]].plot.line(\n",
    "#     x=\"rpm\", ax=axes[3], alpha=0.5\n",
    "# )\n",
    "# fig.set_title(\"200mm Extruder\", loc='left')\n",
    "# fig = df.loc[40:, [\"rpm\", \"extrucal\", \"RF_model\"]].plot.line(\n",
    "#     x=\"rpm\", ax=axes[4], alpha=0.5\n",
    "# )\n",
    "# fig.set_title(\"250mm Extruder\", loc='left')\n",
    "# plt.show();"
   ]
  }
 ],
 "metadata": {
  "kernelspec": {
   "display_name": "Python [conda env:575]",
   "language": "python",
   "name": "conda-env-575-py"
  },
  "language_info": {
   "codemirror_mode": {
    "name": "ipython",
    "version": 3
   },
   "file_extension": ".py",
   "mimetype": "text/x-python",
   "name": "python",
   "nbconvert_exporter": "python",
   "pygments_lexer": "ipython3",
   "version": "3.10.4"
  }
 },
 "nbformat": 4,
 "nbformat_minor": 5
}
